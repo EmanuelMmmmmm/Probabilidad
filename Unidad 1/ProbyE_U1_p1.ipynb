{
 "cells": [
  {
   "cell_type": "markdown",
   "id": "b2d1a3a5-20cb-431c-af2a-d1a18f8dec3c",
   "metadata": {},
   "source": [
    "\n",
    "# Probabilidad y Estadística\n",
    "## Facilitador: José Gabriel Rodrígues Rivas\n",
    "### Alumno: Emanuel Magallanes Contreras"
   ]
  },
  {
   "cell_type": "code",
   "execution_count": 1,
   "id": "07c7cb92-1cbc-426f-ad05-242d86672207",
   "metadata": {},
   "outputs": [],
   "source": [
    "from statistics import *"
   ]
  },
  {
   "cell_type": "code",
   "execution_count": 2,
   "id": "2616753f-d198-4a8b-9969-00bb709c1b11",
   "metadata": {},
   "outputs": [
    {
     "name": "stdout",
     "output_type": "stream",
     "text": [
      "[70, 70, 65, 90, 100, 95, 45, 80, 73, 20, 100, 96]\n"
     ]
    }
   ],
   "source": [
    "# Lista de calificaciones del grupo a de probabilidad y estadistica\n",
    "grupoa = [70, 70, 65, 90, 100, 95, 45, 80, 73, 20, 100, 96]\n",
    "print (grupoa)"
   ]
  },
  {
   "cell_type": "code",
   "execution_count": 3,
   "id": "e078e03c-b0b0-4cac-b78d-c602debeb507",
   "metadata": {},
   "outputs": [
    {
     "data": {
      "text/plain": [
       "list"
      ]
     },
     "execution_count": 3,
     "metadata": {},
     "output_type": "execute_result"
    }
   ],
   "source": [
    "# La funcion type nos devuelve el tipo de dato de la variable\n",
    "type(grupoa)"
   ]
  },
  {
   "cell_type": "code",
   "execution_count": 4,
   "id": "e2779d13-f09b-42ce-86bf-a6c9eb04e4ac",
   "metadata": {},
   "outputs": [
    {
     "name": "stdout",
     "output_type": "stream",
     "text": [
      "75.33333333333333\n"
     ]
    }
   ],
   "source": [
    "# Sacar la media de las calificaciones con una formula\n",
    "promedio = sum(grupoa)/len(grupoa)\n",
    "print (promedio)"
   ]
  },
  {
   "cell_type": "code",
   "execution_count": 5,
   "id": "2e555f6d-3be0-4360-9f53-852bc76cd8a1",
   "metadata": {},
   "outputs": [
    {
     "name": "stdout",
     "output_type": "stream",
     "text": [
      "75.33333333333333\n"
     ]
    }
   ],
   "source": [
    "#Utilizar la funcion mean que esta en la libreria statistics para sacar el promedio\n",
    "promedio2 = mean(grupoa)\n",
    "print (promedio2)"
   ]
  },
  {
   "cell_type": "code",
   "execution_count": 6,
   "id": "e67bac9f-da50-403e-ba90-40f4992fa010",
   "metadata": {},
   "outputs": [
    {
     "name": "stdout",
     "output_type": "stream",
     "text": [
      "76.5\n"
     ]
    }
   ],
   "source": [
    "#Determinar el valor de la mediana con la function median\n",
    "mediana = median(grupoa)\n",
    "print (mediana)"
   ]
  },
  {
   "cell_type": "code",
   "execution_count": 7,
   "id": "00205bcb-3fef-4a82-8310-c7b650fb9bda",
   "metadata": {},
   "outputs": [
    {
     "name": "stdout",
     "output_type": "stream",
     "text": [
      "70\n"
     ]
    }
   ],
   "source": [
    "#Determinar el valor de la moda con la funcion mode\n",
    "\n",
    "moda= mode(grupoa)\n",
    "print (moda)"
   ]
  },
  {
   "cell_type": "code",
   "execution_count": 8,
   "id": "472ef038-395b-41de-b423-a58910afc6f3",
   "metadata": {},
   "outputs": [
    {
     "name": "stdout",
     "output_type": "stream",
     "text": [
      "[15.1, 17.2, 14.69, 13.27, 22.15, 18.71, 19.15, 20.65, 15.1, 17.2]\n"
     ]
    }
   ],
   "source": [
    "#Definimos una variable llamada tiempos100mts de tipo lista, que contiene los\n",
    "#tiempos que tardaron los 10 alumnos para correr los 100 metros\n",
    "tiempos100mts = [15.10, 17.20, 14.69, 13.27, 22.15, 18.71, 19.15, 20.65, 15.10, 17.20]\n",
    "\n",
    "#Desplegamos los valores de la lista\n",
    "print (tiempos100mts)"
   ]
  },
  {
   "cell_type": "code",
   "execution_count": 9,
   "id": "f3d78aaa-adb4-489f-94bc-f28d43637c27",
   "metadata": {},
   "outputs": [
    {
     "name": "stdout",
     "output_type": "stream",
     "text": [
      "El tiempo promedio de los corredores es:  17.322\n"
     ]
    }
   ],
   "source": [
    "#Usamos la funcion mean para determinar el tiempo promedio de la lista de valores\n",
    "print (\"El tiempo promedio de los corredores es: \", mean(tiempos100mts) )"
   ]
  },
  {
   "cell_type": "code",
   "execution_count": 10,
   "id": "dc6c07bb-065c-4165-a7a3-01ef2e61497c",
   "metadata": {},
   "outputs": [
    {
     "name": "stdout",
     "output_type": "stream",
     "text": [
      "La media del tiempo de los corredores es:  17.2\n"
     ]
    }
   ],
   "source": [
    "#Usamos la funcion median para determinar el tiempo promedio de la lista de valores\n",
    "\n",
    "#Definimos una variable llamada mediana para calcular la mediana de la lista de con la \n",
    "#funcion median\n",
    "mediana100mts= median (tiempos100mts)\n",
    "print (\"La media del tiempo de los corredores es: \", mediana100mts)"
   ]
  },
  {
   "cell_type": "code",
   "execution_count": 11,
   "id": "413fcd37-e299-4045-9a9d-4697bd8a74ae",
   "metadata": {},
   "outputs": [
    {
     "name": "stdout",
     "output_type": "stream",
     "text": [
      "La moda de los tiempos es:  15.1\n"
     ]
    }
   ],
   "source": [
    "#Definimos una variable llamada moda para calcular la moda de la lista con la funcion \n",
    "#mode\n",
    "\n",
    "moda = mode(tiempos100mts)\n",
    "print (\"La moda de los tiempos es: \", moda)"
   ]
  },
  {
   "cell_type": "code",
   "execution_count": 12,
   "id": "cefda6cb-8cba-4ec6-9570-6f7f351c9732",
   "metadata": {},
   "outputs": [
    {
     "name": "stdout",
     "output_type": "stream",
     "text": [
      "La moda de los tiempos es:  [15.1, 17.2]\n"
     ]
    }
   ],
   "source": [
    "#Funcion multimode para calcular multiples modas (en caso de que sea bimodal)\n",
    "\n",
    "multimodas = multimode(tiempos100mts)\n",
    "print (\"La moda de los tiempos es: \", multimodas)"
   ]
  },
  {
   "cell_type": "markdown",
   "id": "9b908330-d60f-46c6-980e-7d27a3824e99",
   "metadata": {},
   "source": [
    "## Ejemplo 3: Histogramas de 2 grupos\n",
    "\n",
    "1. En este ejemplo generamos 100 numeros aleatorios reales que representa la produccion diaria de 100 telares (medidas en metros).\n",
    "2. Generar otra lista con la produccion de 100 telares para una segunda fabrica.\n",
    "3. Con estas listas de valores se pretende detemrina las medidas de tendencia central, es decir, la media, la moda, la mediana y la desviacion estandar.\n",
    "4. Graficar un histograma para cada fabrica"
   ]
  },
  {
   "cell_type": "code",
   "execution_count": 13,
   "id": "142de404-332c-412b-8c36-e7638ef80c60",
   "metadata": {},
   "outputs": [],
   "source": [
    "#Libreria para generar numeros aleatorios\n",
    "import random"
   ]
  },
  {
   "cell_type": "code",
   "execution_count": 14,
   "id": "fd1b0f70-e912-43aa-8608-2f3c0b4550d0",
   "metadata": {},
   "outputs": [
    {
     "name": "stdout",
     "output_type": "stream",
     "text": [
      "[84.12, 84.32, 57.52, 59.09, 72.59, 59.96, 80.93, 98.07, 65.28, 90.86, 62.29, 60.41, 52.6, 98.03, 77.46, 74.75, 70.05, 78.38, 56.05, 91.21, 74.06, 55.14, 99.13, 78.71, 86.91, 81.15, 70.77, 87.41, 87.56, 90.99, 95.17, 66.7, 84.2, 89.11, 90.61, 94.59, 71.86, 63.73, 66.79, 91.17, 88.66, 53.17, 76.12, 93.63, 69.23, 75.01, 72.97, 70.93, 82.53, 52.94, 86.54, 67.66, 83.94, 95.36, 65.45, 61.29, 53.89, 62.78, 54.71, 72.04, 60.21, 62.78, 92.72, 63.4, 70.15, 50.56, 78.16, 89.92, 65.61, 98.41, 79.12, 71.83, 50.83, 51.22, 70.44, 85.44, 82.07, 54.36, 90.76, 61.8, 96.71, 54.52, 88.96, 87.05, 90.7, 98.38, 55.14, 57.53, 80.98, 98.25, 57.02, 99.03, 91.03, 74.65, 93.8, 84.76, 98.62, 52.46, 64.28, 65.55]\n"
     ]
    }
   ],
   "source": [
    "fabrica1= []\n",
    "for i in range (100):\n",
    "    numero_aleatorio = round ( random.uniform(50,100), 2)\n",
    "    fabrica1.append(numero_aleatorio)\n",
    "print (fabrica1)"
   ]
  },
  {
   "cell_type": "code",
   "execution_count": 15,
   "id": "f84ff05e-b3d4-4a7c-88a3-f318f1a8a69d",
   "metadata": {},
   "outputs": [
    {
     "name": "stdout",
     "output_type": "stream",
     "text": [
      "[92.68, 60.77, 57.36, 76.79, 65.01, 84.4, 53.58, 71.24, 94.1, 61.97, 83.94, 59.36, 53.38, 62.27, 57.82, 86.2, 77.0, 93.19, 97.06, 78.69, 80.2, 60.21, 50.65, 67.66, 65.81, 52.13, 69.41, 51.34, 57.48, 58.73, 96.22, 98.84, 80.37, 82.98, 57.12, 92.63, 95.82, 92.32, 91.95, 91.18, 70.29, 85.46, 86.19, 72.96, 84.78, 67.27, 90.52, 98.09, 80.07, 70.3, 51.05, 68.77, 74.85, 88.74, 70.02, 77.16, 73.05, 95.97, 68.81, 84.67, 61.96, 55.43, 79.06, 98.66, 50.1, 99.65, 86.18, 78.26, 97.5, 97.78, 58.79, 70.12, 65.51, 77.6, 62.49, 94.56, 76.71, 90.56, 77.39, 79.92, 52.95, 94.04, 86.83, 77.62, 69.31, 60.51, 55.48, 68.24, 97.44, 62.34, 64.76, 50.96, 70.39, 59.7, 60.99, 80.1, 97.14, 90.87, 66.63, 86.45]\n"
     ]
    }
   ],
   "source": [
    "fabrica2= []\n",
    "for i in range (100):\n",
    "    numero_aleatorio2 = round ( random.uniform(50,100), 2)\n",
    "    fabrica2.append(numero_aleatorio2)\n",
    "print (fabrica2)"
   ]
  },
  {
   "cell_type": "code",
   "execution_count": 16,
   "id": "8850a649-75bd-4c3f-b319-d1a342e381da",
   "metadata": {},
   "outputs": [],
   "source": [
    "#Libreria de python para graficar valores\n",
    "import matplotlib.pyplot as plt"
   ]
  },
  {
   "cell_type": "code",
   "execution_count": 17,
   "id": "1a78ab4f-b4e6-42ba-8bb1-e02b986879d0",
   "metadata": {
    "scrolled": true
   },
   "outputs": [
    {
     "data": {
      "text/plain": [
       "Text(0.5, 1.0, 'Producción diaria de la fabrica 1: ')"
      ]
     },
     "execution_count": 17,
     "metadata": {},
     "output_type": "execute_result"
    },
    {
     "data": {
      "image/png": "[encoded data removed]",
      "text/plain": [
       "<Figure size 640x480 with 1 Axes>"
      ]
     },
     "metadata": {},
     "output_type": "display_data"
    }
   ],
   "source": [
    "plt.hist(fabrica1)\n",
    "plt.title(\"Producción diaria de la fabrica 1: \")"
   ]
  },
  {
   "cell_type": "code",
   "execution_count": 18,
   "id": "46ab17be-af7c-4a5c-8667-b837fac1846f",
   "metadata": {},
   "outputs": [
    {
     "data": {
      "text/plain": [
       "Text(0.5, 1.0, 'Producción diaria de la fabrica 2: ')"
      ]
     },
     "execution_count": 18,
     "metadata": {},
     "output_type": "execute_result"
    },
    {
     "data": {
      "image/png": "[encoded data removed]",
      "text/plain": [
       "<Figure size 640x480 with 1 Axes>"
      ]
     },
     "metadata": {},
     "output_type": "display_data"
    }
   ],
   "source": [
    "plt.hist(fabrica2)\n",
    "plt.title(\"Producción diaria de la fabrica 2: \")"
   ]
  },
  {
   "cell_type": "code",
   "execution_count": 19,
   "id": "6eff7956-07cb-451f-9839-87460ab12ef8",
   "metadata": {},
   "outputs": [
    {
     "name": "stdout",
     "output_type": "stream",
     "text": [
      "Valores de la fabrica 1\n",
      "La media= 75.5779\n",
      "La mediana es= 74.88\n",
      "La moda es= 55.14\n"
     ]
    }
   ],
   "source": [
    "media = mean(fabrica1)\n",
    "mediana = median(fabrica1)\n",
    "moda = mode(fabrica1)  \n",
    "print (\"Valores de la fabrica 1\")\n",
    "print (\"La media=\", media)\n",
    "print (\"La mediana es=\", mediana)\n",
    "print (\"La moda es=\", moda)"
   ]
  },
  {
   "cell_type": "code",
   "execution_count": 20,
   "id": "bc734fd6-2e1c-4624-9146-82928e485f9d",
   "metadata": {},
   "outputs": [
    {
     "name": "stdout",
     "output_type": "stream",
     "text": [
      "Valores de la fabrica 2\n",
      "La media= 75.2986\n",
      "La mediana es= 76.75\n",
      "La moda es= 92.68\n"
     ]
    }
   ],
   "source": [
    "media = mean(fabrica2)\n",
    "mediana = median(fabrica2)\n",
    "moda = mode(fabrica2)  \n",
    "print (\"Valores de la fabrica 2\")\n",
    "print (\"La media=\", media)\n",
    "print (\"La mediana es=\", mediana)\n",
    "print (\"La moda es=\", moda)"
   ]
  },
  {
   "cell_type": "code",
   "execution_count": 21,
   "id": "773aa930-bc8d-4817-89ce-5cc2e732843e",
   "metadata": {},
   "outputs": [
    {
     "data": {
      "image/png": "[encoded data removed]",
      "text/plain": [
       "<Figure size 640x480 with 2 Axes>"
      ]
     },
     "metadata": {},
     "output_type": "display_data"
    }
   ],
   "source": [
    "#Generar 2 subplot de 1 renglon por 2 columnas para desplegar los 2 histogramas, \n",
    "#una al lado de la otra\n",
    "fig, (ax1, ax2) = plt.subplots(nrows =1, ncols=2)"
   ]
  },
  {
   "cell_type": "code",
   "execution_count": 22,
   "id": "40d51429-c5cd-401d-a013-9c6a9229b1d1",
   "metadata": {
    "scrolled": true
   },
   "outputs": [
    {
     "data": {
      "image/png": "[encoded data removed]",
      "text/plain": [
       "<Figure size 1000x500 with 2 Axes>"
      ]
     },
     "metadata": {},
     "output_type": "display_data"
    }
   ],
   "source": [
    "#Generar 2 subplot de 1 renglon por 2 columnas para desplegar los 2 histogramas, \n",
    "#una al lado de la otra\n",
    "fig, (ax1, ax2) = plt.subplots(nrows =1, ncols=2, figsize=(10,5))\n",
    "ax1.hist(fabrica1)\n",
    "ax2.hist(fabrica2)\n",
    "plt.show()"
   ]
  },
  {
   "cell_type": "code",
   "execution_count": 23,
   "id": "6629683b-b49c-40cf-a08d-7aff3e4aa12f",
   "metadata": {},
   "outputs": [],
   "source": [
    "#Valor minimo, maximo, rango\n",
    "\n",
    "media1 = mean(fabrica1)\n",
    "mediana1 = median(fabrica1)\n",
    "moda1 = mode(fabrica1)  "
   ]
  },
  {
   "cell_type": "code",
   "execution_count": 24,
   "id": "0ccb301f-ad17-4f91-99ce-b164ef9be2e1",
   "metadata": {},
   "outputs": [
    {
     "data": {
      "image/png": "[encoded data removed]",
      "text/plain": [
       "<Figure size 640x480 with 1 Axes>"
      ]
     },
     "metadata": {},
     "output_type": "display_data"
    }
   ],
   "source": [
    "plt.hist(fabrica1, bins=10, alpha=0.2, color='b', edgecolor=\"black\")\n",
    "plt.axvline(media1, color='b', linestyle='dashed', linewidth=2, label='Media')\n",
    "plt.axvline(mediana1, color='r', linestyle='dashed', linewidth=2, label='Mediana')\n",
    "plt.axvline(moda1, color='y', linestyle='dashed', linewidth=2, label='Moda')\n",
    "plt.xlabel('Valor')\n",
    "plt.ylabel('Frecuencia')\n",
    "plt.title(\"Producción diaria de la fabrica 1\")\n",
    "plt.legend()\n",
    "plt.show()"
   ]
  },
  {
   "cell_type": "code",
   "execution_count": 25,
   "id": "89d40881-0d63-42e5-b4a4-7014111a3d52",
   "metadata": {},
   "outputs": [
    {
     "data": {
      "image/png": "[encoded data removed]",
      "text/plain": [
       "<Figure size 640x480 with 1 Axes>"
      ]
     },
     "metadata": {},
     "output_type": "display_data"
    }
   ],
   "source": [
    "media2 = mean(fabrica2)\n",
    "mediana2 = median(fabrica2)\n",
    "moda2 = mode(fabrica2)  \n",
    "\n",
    "plt.hist(fabrica2, bins=10, alpha=0.2, color='b', edgecolor=\"black\")\n",
    "plt.axvline(media2, color='b', linestyle='dashed', linewidth=2, label='Media')\n",
    "plt.axvline(mediana2, color='r', linestyle='dashed', linewidth=2, label='Mediana')\n",
    "plt.axvline(moda2, color='y', linestyle='dashed', linewidth=2, label='Moda')\n",
    "plt.xlabel('Valor')\n",
    "plt.ylabel('Frecuencia')\n",
    "plt.title(\"Producción diaria de la fabrica 2\")\n",
    "plt.legend()\n",
    "plt.show()"
   ]
  },
  {
   "cell_type": "markdown",
   "id": "d6a13660-1ed8-4f83-b448-f8741da5fb39",
   "metadata": {},
   "source": [
    "## Máximo, mínimo y Rango"
   ]
  },
  {
   "cell_type": "code",
   "execution_count": 26,
   "id": "de48b6b1-58f1-4dd5-a6ce-8efba6450586",
   "metadata": {},
   "outputs": [
    {
     "name": "stdout",
     "output_type": "stream",
     "text": [
      "Estadistica Descriptiva de la Fabrica 1 \n",
      " Media = 75.5779 \n",
      " Mediana = 74.88 \n",
      " Moda = 55.14 \n",
      " Maximo= 99.13 \n",
      " Minimo=  50.56 \n",
      " Rango= 48.56999999999999\n"
     ]
    }
   ],
   "source": [
    "maximo = max(fabrica1)\n",
    "minimo = min (fabrica1)\n",
    "rango = maximo - minimo\n",
    "media = mean (fabrica1)\n",
    "mediana = median (fabrica1)\n",
    "moda = mode (fabrica1)\n",
    "print (\"Estadistica Descriptiva de la Fabrica 1 \\n\", \"Media =\", media, \n",
    "      \"\\n Mediana =\" ,mediana, \"\\n Moda =\", moda, \"\\n Maximo=\", maximo, \n",
    "      \"\\n Minimo= \", minimo, \"\\n Rango=\", rango)"
   ]
  },
  {
   "cell_type": "code",
   "execution_count": 27,
   "id": "0344fecb-55e6-4b0c-b3b5-1c61f42cf684",
   "metadata": {},
   "outputs": [
    {
     "name": "stdout",
     "output_type": "stream",
     "text": [
      "Estadistica Descriptiva de la Fabrica 2 \n",
      " Media = 75.2986 \n",
      " Mediana = 76.75 \n",
      " Moda = 92.68 \n",
      " Maximo= 99.65 \n",
      " Minimo=  50.1 \n",
      " Rango= 49.550000000000004\n"
     ]
    }
   ],
   "source": [
    "maximo2 = max(fabrica2)\n",
    "minimo2 = min (fabrica2)\n",
    "rango2 = maximo2 - minimo2\n",
    "media2 = mean (fabrica2)\n",
    "mediana2 = median (fabrica2)\n",
    "moda2 = mode (fabrica2)\n",
    "print (\"Estadistica Descriptiva de la Fabrica 2 \\n\", \"Media =\", media2, \n",
    "      \"\\n Mediana =\" ,mediana2, \"\\n Moda =\", moda2, \"\\n Maximo=\", maximo2, \n",
    "      \"\\n Minimo= \", minimo2, \"\\n Rango=\", rango2)"
   ]
  },
  {
   "cell_type": "markdown",
   "id": "7525cc8c-2894-428c-83a7-da98e8d76aa6",
   "metadata": {},
   "source": [
    "## Dispersión de los datos"
   ]
  },
  {
   "cell_type": "code",
   "execution_count": 28,
   "id": "ba2cd290-ebda-4d3a-90b1-dc451c39b708",
   "metadata": {},
   "outputs": [
    {
     "name": "stdout",
     "output_type": "stream",
     "text": [
      "La desviación estandar de la fabrica 1 es = 14.836812618509667\n"
     ]
    }
   ],
   "source": [
    "desviacion_estandar_fabrica1 = stdev(fabrica1)\n",
    "print (\"La desviación estandar de la fabrica 1 es =\", desviacion_estandar_fabrica1)"
   ]
  },
  {
   "cell_type": "code",
   "execution_count": 29,
   "id": "3921f7f9-8a5c-4d54-9c20-10a1b8e8bccd",
   "metadata": {},
   "outputs": [
    {
     "name": "stdout",
     "output_type": "stream",
     "text": [
      "La desviación estandar de la fabrica 2 es = 14.80664681619015\n"
     ]
    }
   ],
   "source": [
    "desviacion_estandar_fabrica2 = stdev(fabrica2)\n",
    "print (\"La desviación estandar de la fabrica 2 es =\", desviacion_estandar_fabrica2)"
   ]
  },
  {
   "cell_type": "code",
   "execution_count": 30,
   "id": "aae64cc7-85dd-4415-ac6f-7d34ff404a8e",
   "metadata": {},
   "outputs": [
    {
     "data": {
      "image/png": "[encoded data removed]",
      "text/plain": [
       "<Figure size 1000x800 with 1 Axes>"
      ]
     },
     "metadata": {},
     "output_type": "display_data"
    }
   ],
   "source": [
    "plt.figure(figsize = (10,8))\n",
    "plt.hist(fabrica1, bins=10, alpha=0.2, color='b', edgecolor=\"black\")\n",
    "plt.axvline(media1, color='b', linestyle='dashed', linewidth=2, label=f'Media={media1:.2f}')\n",
    "plt.axvline(mediana1, color='r', linestyle='dashed', linewidth=2, label=f'Mediana={mediana1:.2f}')\n",
    "plt.axvline(moda1, color='y', linestyle='dashed', linewidth=2, label=f'Moda={moda1:.2f}')\n",
    "\n",
    "plt.axvline(media1 - desviacion_estandar_fabrica1, color='black', linestyle='dashed', \n",
    "            linewidth=2, label=f'Desv. Estandar = {desviacion_estandar_fabrica1:.2f}')\n",
    "plt.axvline(media1 + desviacion_estandar_fabrica1, color='black', linestyle='dashed', \n",
    "            linewidth=2)\n",
    "\n",
    "plt.xlabel('Valor')\n",
    "plt.ylabel('Frecuencia')\n",
    "plt.title(\"Producción diaria de la fabrica 1\")\n",
    "plt.legend()\n",
    "plt.show()"
   ]
  },
  {
   "cell_type": "code",
   "execution_count": 31,
   "id": "69220511-0198-4b3c-9923-11b61cce0781",
   "metadata": {},
   "outputs": [
    {
     "data": {
      "image/png": "[encoded data removed]",
      "text/plain": [
       "<Figure size 1000x700 with 1 Axes>"
      ]
     },
     "metadata": {},
     "output_type": "display_data"
    }
   ],
   "source": [
    "plt.figure(figsize = (10,7))\n",
    "plt.hist(fabrica2, bins=10, alpha=0.2, color='b', edgecolor=\"black\")\n",
    "plt.axvline(media2, color='b', linestyle='dashed', linewidth=2, label=f'Media={media2:.2f}')\n",
    "plt.axvline(mediana2, color='r', linestyle='dashed', linewidth=2, label=f'Mediana={mediana2:.2f}')\n",
    "plt.axvline(moda2, color='y', linestyle='dashed', linewidth=2, label=f'Moda={moda2:.2f}')\n",
    "\n",
    "plt.axvline(media2 - desviacion_estandar_fabrica1, color='black', linestyle='dashed', \n",
    "            linewidth=2, label=f'Desv. Estandar = {desviacion_estandar_fabrica1:.2f}')\n",
    "plt.axvline(media2 + desviacion_estandar_fabrica1, color='black', linestyle='dashed', \n",
    "            linewidth=2)\n",
    "\n",
    "plt.xlabel('Valor')\n",
    "plt.ylabel('Frecuencia')\n",
    "plt.title(\"Producción diaria de la fabrica 1\")\n",
    "plt.legend()\n",
    "plt.show()"
   ]
  },
  {
   "cell_type": "markdown",
   "id": "4789fe14-1900-4b9a-a107-50c8e89a2ec2",
   "metadata": {},
   "source": [
    "## Tablas de Frecuencias"
   ]
  },
  {
   "cell_type": "code",
   "execution_count": 32,
   "id": "e23d59c3-bfc2-433c-95eb-84c586b6ed87",
   "metadata": {},
   "outputs": [
    {
     "name": "stdout",
     "output_type": "stream",
     "text": [
      "[42, 32, 39, 47, 18, 52, 30, 24, 41, 34, 59, 52, 38, 35, 52, 32, 32, 45, 69, 58, 32, 63, 19, 54, 29, 30, 21, 19, 21, 39, 66, 67, 50, 38, 35, 19, 27, 34, 58, 58, 61, 66, 66, 61, 59, 26, 33, 29, 69, 20, 34, 29, 55, 37, 26, 47, 53, 23, 24, 44, 51, 37, 55, 55, 24, 62, 67, 43, 31, 31, 21, 19, 56, 63, 30, 67, 40, 61, 53, 57, 49, 46, 57, 40, 32, 27, 31, 52, 51, 70, 24, 46, 35, 70, 54, 40, 49, 63, 27, 33]\n"
     ]
    }
   ],
   "source": [
    "#Generamos una lista vacia que representa la edad de un grupo de personas\n",
    "edades = [] \n",
    "\n",
    "for i in range (100):\n",
    "    numero_aleatorio = random.randint(18,70)\n",
    "    edades.append(numero_aleatorio)\n",
    "print (edades)"
   ]
  },
  {
   "cell_type": "code",
   "execution_count": 33,
   "id": "e8a0ccce-6d87-47ad-a5ce-3a213739c0f0",
   "metadata": {},
   "outputs": [],
   "source": [
    "import pandas as pd"
   ]
  },
  {
   "cell_type": "code",
   "execution_count": 34,
   "id": "77664d23-b7b7-41ab-a644-5fd201dc4e0f",
   "metadata": {},
   "outputs": [
    {
     "data": {
      "text/html": [
       "<div>\n",
       "<style scoped>\n",
       "    .dataframe tbody tr th:only-of-type {\n",
       "        vertical-align: middle;\n",
       "    }\n",
       "\n",
       "    .dataframe tbody tr th {\n",
       "        vertical-align: top;\n",
       "    }\n",
       "\n",
       "    .dataframe thead th {\n",
       "        text-align: right;\n",
       "    }\n",
       "</style>\n",
       "<table border=\"1\" class=\"dataframe\">\n",
       "  <thead>\n",
       "    <tr style=\"text-align: right;\">\n",
       "      <th></th>\n",
       "      <th>Edad</th>\n",
       "    </tr>\n",
       "  </thead>\n",
       "  <tbody>\n",
       "    <tr>\n",
       "      <th>0</th>\n",
       "      <td>42</td>\n",
       "    </tr>\n",
       "    <tr>\n",
       "      <th>1</th>\n",
       "      <td>32</td>\n",
       "    </tr>\n",
       "    <tr>\n",
       "      <th>2</th>\n",
       "      <td>39</td>\n",
       "    </tr>\n",
       "    <tr>\n",
       "      <th>3</th>\n",
       "      <td>47</td>\n",
       "    </tr>\n",
       "    <tr>\n",
       "      <th>4</th>\n",
       "      <td>18</td>\n",
       "    </tr>\n",
       "    <tr>\n",
       "      <th>...</th>\n",
       "      <td>...</td>\n",
       "    </tr>\n",
       "    <tr>\n",
       "      <th>95</th>\n",
       "      <td>40</td>\n",
       "    </tr>\n",
       "    <tr>\n",
       "      <th>96</th>\n",
       "      <td>49</td>\n",
       "    </tr>\n",
       "    <tr>\n",
       "      <th>97</th>\n",
       "      <td>63</td>\n",
       "    </tr>\n",
       "    <tr>\n",
       "      <th>98</th>\n",
       "      <td>27</td>\n",
       "    </tr>\n",
       "    <tr>\n",
       "      <th>99</th>\n",
       "      <td>33</td>\n",
       "    </tr>\n",
       "  </tbody>\n",
       "</table>\n",
       "<p>100 rows × 1 columns</p>\n",
       "</div>"
      ],
      "text/plain": [
       "    Edad\n",
       "0     42\n",
       "1     32\n",
       "2     39\n",
       "3     47\n",
       "4     18\n",
       "..   ...\n",
       "95    40\n",
       "96    49\n",
       "97    63\n",
       "98    27\n",
       "99    33\n",
       "\n",
       "[100 rows x 1 columns]"
      ]
     },
     "execution_count": 34,
     "metadata": {},
     "output_type": "execute_result"
    }
   ],
   "source": [
    "df_edades = pd.DataFrame(edades, columns=[\"Edad\"])\n",
    "df_edades"
   ]
  },
  {
   "cell_type": "code",
   "execution_count": 35,
   "id": "aa3ecb10-83b3-4563-a663-5c9006bd79ef",
   "metadata": {},
   "outputs": [
    {
     "data": {
      "text/html": [
       "<div>\n",
       "<style scoped>\n",
       "    .dataframe tbody tr th:only-of-type {\n",
       "        vertical-align: middle;\n",
       "    }\n",
       "\n",
       "    .dataframe tbody tr th {\n",
       "        vertical-align: top;\n",
       "    }\n",
       "\n",
       "    .dataframe thead th {\n",
       "        text-align: right;\n",
       "    }\n",
       "</style>\n",
       "<table border=\"1\" class=\"dataframe\">\n",
       "  <thead>\n",
       "    <tr style=\"text-align: right;\">\n",
       "      <th></th>\n",
       "      <th>Edad</th>\n",
       "      <th>Frecuencia</th>\n",
       "    </tr>\n",
       "  </thead>\n",
       "  <tbody>\n",
       "    <tr>\n",
       "      <th>34</th>\n",
       "      <td>18</td>\n",
       "      <td>1</td>\n",
       "    </tr>\n",
       "    <tr>\n",
       "      <th>3</th>\n",
       "      <td>19</td>\n",
       "      <td>4</td>\n",
       "    </tr>\n",
       "    <tr>\n",
       "      <th>39</th>\n",
       "      <td>20</td>\n",
       "      <td>1</td>\n",
       "    </tr>\n",
       "    <tr>\n",
       "      <th>8</th>\n",
       "      <td>21</td>\n",
       "      <td>3</td>\n",
       "    </tr>\n",
       "    <tr>\n",
       "      <th>41</th>\n",
       "      <td>23</td>\n",
       "      <td>1</td>\n",
       "    </tr>\n",
       "    <tr>\n",
       "      <th>2</th>\n",
       "      <td>24</td>\n",
       "      <td>4</td>\n",
       "    </tr>\n",
       "    <tr>\n",
       "      <th>18</th>\n",
       "      <td>26</td>\n",
       "      <td>2</td>\n",
       "    </tr>\n",
       "    <tr>\n",
       "      <th>6</th>\n",
       "      <td>27</td>\n",
       "      <td>3</td>\n",
       "    </tr>\n",
       "    <tr>\n",
       "      <th>9</th>\n",
       "      <td>29</td>\n",
       "      <td>3</td>\n",
       "    </tr>\n",
       "    <tr>\n",
       "      <th>17</th>\n",
       "      <td>30</td>\n",
       "      <td>3</td>\n",
       "    </tr>\n",
       "    <tr>\n",
       "      <th>14</th>\n",
       "      <td>31</td>\n",
       "      <td>3</td>\n",
       "    </tr>\n",
       "    <tr>\n",
       "      <th>0</th>\n",
       "      <td>32</td>\n",
       "      <td>5</td>\n",
       "    </tr>\n",
       "    <tr>\n",
       "      <th>23</th>\n",
       "      <td>33</td>\n",
       "      <td>2</td>\n",
       "    </tr>\n",
       "    <tr>\n",
       "      <th>15</th>\n",
       "      <td>34</td>\n",
       "      <td>3</td>\n",
       "    </tr>\n",
       "    <tr>\n",
       "      <th>13</th>\n",
       "      <td>35</td>\n",
       "      <td>3</td>\n",
       "    </tr>\n",
       "    <tr>\n",
       "      <th>19</th>\n",
       "      <td>37</td>\n",
       "      <td>2</td>\n",
       "    </tr>\n",
       "    <tr>\n",
       "      <th>32</th>\n",
       "      <td>38</td>\n",
       "      <td>2</td>\n",
       "    </tr>\n",
       "    <tr>\n",
       "      <th>30</th>\n",
       "      <td>39</td>\n",
       "      <td>2</td>\n",
       "    </tr>\n",
       "    <tr>\n",
       "      <th>16</th>\n",
       "      <td>40</td>\n",
       "      <td>3</td>\n",
       "    </tr>\n",
       "    <tr>\n",
       "      <th>35</th>\n",
       "      <td>41</td>\n",
       "      <td>1</td>\n",
       "    </tr>\n",
       "    <tr>\n",
       "      <th>43</th>\n",
       "      <td>42</td>\n",
       "      <td>1</td>\n",
       "    </tr>\n",
       "    <tr>\n",
       "      <th>38</th>\n",
       "      <td>43</td>\n",
       "      <td>1</td>\n",
       "    </tr>\n",
       "    <tr>\n",
       "      <th>40</th>\n",
       "      <td>44</td>\n",
       "      <td>1</td>\n",
       "    </tr>\n",
       "    <tr>\n",
       "      <th>42</th>\n",
       "      <td>45</td>\n",
       "      <td>1</td>\n",
       "    </tr>\n",
       "    <tr>\n",
       "      <th>24</th>\n",
       "      <td>46</td>\n",
       "      <td>2</td>\n",
       "    </tr>\n",
       "    <tr>\n",
       "      <th>31</th>\n",
       "      <td>47</td>\n",
       "      <td>2</td>\n",
       "    </tr>\n",
       "    <tr>\n",
       "      <th>22</th>\n",
       "      <td>49</td>\n",
       "      <td>2</td>\n",
       "    </tr>\n",
       "    <tr>\n",
       "      <th>33</th>\n",
       "      <td>50</td>\n",
       "      <td>1</td>\n",
       "    </tr>\n",
       "    <tr>\n",
       "      <th>20</th>\n",
       "      <td>51</td>\n",
       "      <td>2</td>\n",
       "    </tr>\n",
       "    <tr>\n",
       "      <th>1</th>\n",
       "      <td>52</td>\n",
       "      <td>4</td>\n",
       "    </tr>\n",
       "    <tr>\n",
       "      <th>25</th>\n",
       "      <td>53</td>\n",
       "      <td>2</td>\n",
       "    </tr>\n",
       "    <tr>\n",
       "      <th>28</th>\n",
       "      <td>54</td>\n",
       "      <td>2</td>\n",
       "    </tr>\n",
       "    <tr>\n",
       "      <th>10</th>\n",
       "      <td>55</td>\n",
       "      <td>3</td>\n",
       "    </tr>\n",
       "    <tr>\n",
       "      <th>36</th>\n",
       "      <td>56</td>\n",
       "      <td>1</td>\n",
       "    </tr>\n",
       "    <tr>\n",
       "      <th>21</th>\n",
       "      <td>57</td>\n",
       "      <td>2</td>\n",
       "    </tr>\n",
       "    <tr>\n",
       "      <th>5</th>\n",
       "      <td>58</td>\n",
       "      <td>3</td>\n",
       "    </tr>\n",
       "    <tr>\n",
       "      <th>27</th>\n",
       "      <td>59</td>\n",
       "      <td>2</td>\n",
       "    </tr>\n",
       "    <tr>\n",
       "      <th>12</th>\n",
       "      <td>61</td>\n",
       "      <td>3</td>\n",
       "    </tr>\n",
       "    <tr>\n",
       "      <th>37</th>\n",
       "      <td>62</td>\n",
       "      <td>1</td>\n",
       "    </tr>\n",
       "    <tr>\n",
       "      <th>11</th>\n",
       "      <td>63</td>\n",
       "      <td>3</td>\n",
       "    </tr>\n",
       "    <tr>\n",
       "      <th>7</th>\n",
       "      <td>66</td>\n",
       "      <td>3</td>\n",
       "    </tr>\n",
       "    <tr>\n",
       "      <th>4</th>\n",
       "      <td>67</td>\n",
       "      <td>3</td>\n",
       "    </tr>\n",
       "    <tr>\n",
       "      <th>29</th>\n",
       "      <td>69</td>\n",
       "      <td>2</td>\n",
       "    </tr>\n",
       "    <tr>\n",
       "      <th>26</th>\n",
       "      <td>70</td>\n",
       "      <td>2</td>\n",
       "    </tr>\n",
       "  </tbody>\n",
       "</table>\n",
       "</div>"
      ],
      "text/plain": [
       "    Edad  Frecuencia\n",
       "34    18           1\n",
       "3     19           4\n",
       "39    20           1\n",
       "8     21           3\n",
       "41    23           1\n",
       "2     24           4\n",
       "18    26           2\n",
       "6     27           3\n",
       "9     29           3\n",
       "17    30           3\n",
       "14    31           3\n",
       "0     32           5\n",
       "23    33           2\n",
       "15    34           3\n",
       "13    35           3\n",
       "19    37           2\n",
       "32    38           2\n",
       "30    39           2\n",
       "16    40           3\n",
       "35    41           1\n",
       "43    42           1\n",
       "38    43           1\n",
       "40    44           1\n",
       "42    45           1\n",
       "24    46           2\n",
       "31    47           2\n",
       "22    49           2\n",
       "33    50           1\n",
       "20    51           2\n",
       "1     52           4\n",
       "25    53           2\n",
       "28    54           2\n",
       "10    55           3\n",
       "36    56           1\n",
       "21    57           2\n",
       "5     58           3\n",
       "27    59           2\n",
       "12    61           3\n",
       "37    62           1\n",
       "11    63           3\n",
       "7     66           3\n",
       "4     67           3\n",
       "29    69           2\n",
       "26    70           2"
      ]
     },
     "execution_count": 35,
     "metadata": {},
     "output_type": "execute_result"
    }
   ],
   "source": [
    "#Calcular la tabla de distribucion de frecuencias\n",
    "tabla_frecuencias = df_edades[\"Edad\"].value_counts().reset_index()\n",
    "tabla_frecuencias.columns = [\"Edad\", \"Frecuencia\"]\n",
    "tabla_frecuencias = tabla_frecuencias.sort_values(by = \"Edad\")\n",
    "tabla_frecuencias"
   ]
  },
  {
   "cell_type": "code",
   "execution_count": 36,
   "id": "7afb3df8-92aa-4005-974e-f7bb7ca89d59",
   "metadata": {},
   "outputs": [],
   "source": [
    "tabla_frecuencias[\"Frec. Relativa\"] = tabla_frecuencias[\"Frecuencia\"] /100"
   ]
  },
  {
   "cell_type": "code",
   "execution_count": 37,
   "id": "44070907-aff2-46f0-83bf-035b0241fd1a",
   "metadata": {},
   "outputs": [
    {
     "data": {
      "text/html": [
       "<div>\n",
       "<style scoped>\n",
       "    .dataframe tbody tr th:only-of-type {\n",
       "        vertical-align: middle;\n",
       "    }\n",
       "\n",
       "    .dataframe tbody tr th {\n",
       "        vertical-align: top;\n",
       "    }\n",
       "\n",
       "    .dataframe thead th {\n",
       "        text-align: right;\n",
       "    }\n",
       "</style>\n",
       "<table border=\"1\" class=\"dataframe\">\n",
       "  <thead>\n",
       "    <tr style=\"text-align: right;\">\n",
       "      <th></th>\n",
       "      <th>Edad</th>\n",
       "      <th>Frecuencia</th>\n",
       "      <th>Frec. Relativa</th>\n",
       "    </tr>\n",
       "  </thead>\n",
       "  <tbody>\n",
       "    <tr>\n",
       "      <th>34</th>\n",
       "      <td>18</td>\n",
       "      <td>1</td>\n",
       "      <td>0.01</td>\n",
       "    </tr>\n",
       "    <tr>\n",
       "      <th>3</th>\n",
       "      <td>19</td>\n",
       "      <td>4</td>\n",
       "      <td>0.04</td>\n",
       "    </tr>\n",
       "    <tr>\n",
       "      <th>39</th>\n",
       "      <td>20</td>\n",
       "      <td>1</td>\n",
       "      <td>0.01</td>\n",
       "    </tr>\n",
       "    <tr>\n",
       "      <th>8</th>\n",
       "      <td>21</td>\n",
       "      <td>3</td>\n",
       "      <td>0.03</td>\n",
       "    </tr>\n",
       "    <tr>\n",
       "      <th>41</th>\n",
       "      <td>23</td>\n",
       "      <td>1</td>\n",
       "      <td>0.01</td>\n",
       "    </tr>\n",
       "    <tr>\n",
       "      <th>2</th>\n",
       "      <td>24</td>\n",
       "      <td>4</td>\n",
       "      <td>0.04</td>\n",
       "    </tr>\n",
       "    <tr>\n",
       "      <th>18</th>\n",
       "      <td>26</td>\n",
       "      <td>2</td>\n",
       "      <td>0.02</td>\n",
       "    </tr>\n",
       "    <tr>\n",
       "      <th>6</th>\n",
       "      <td>27</td>\n",
       "      <td>3</td>\n",
       "      <td>0.03</td>\n",
       "    </tr>\n",
       "    <tr>\n",
       "      <th>9</th>\n",
       "      <td>29</td>\n",
       "      <td>3</td>\n",
       "      <td>0.03</td>\n",
       "    </tr>\n",
       "    <tr>\n",
       "      <th>17</th>\n",
       "      <td>30</td>\n",
       "      <td>3</td>\n",
       "      <td>0.03</td>\n",
       "    </tr>\n",
       "    <tr>\n",
       "      <th>14</th>\n",
       "      <td>31</td>\n",
       "      <td>3</td>\n",
       "      <td>0.03</td>\n",
       "    </tr>\n",
       "    <tr>\n",
       "      <th>0</th>\n",
       "      <td>32</td>\n",
       "      <td>5</td>\n",
       "      <td>0.05</td>\n",
       "    </tr>\n",
       "    <tr>\n",
       "      <th>23</th>\n",
       "      <td>33</td>\n",
       "      <td>2</td>\n",
       "      <td>0.02</td>\n",
       "    </tr>\n",
       "    <tr>\n",
       "      <th>15</th>\n",
       "      <td>34</td>\n",
       "      <td>3</td>\n",
       "      <td>0.03</td>\n",
       "    </tr>\n",
       "    <tr>\n",
       "      <th>13</th>\n",
       "      <td>35</td>\n",
       "      <td>3</td>\n",
       "      <td>0.03</td>\n",
       "    </tr>\n",
       "    <tr>\n",
       "      <th>19</th>\n",
       "      <td>37</td>\n",
       "      <td>2</td>\n",
       "      <td>0.02</td>\n",
       "    </tr>\n",
       "    <tr>\n",
       "      <th>32</th>\n",
       "      <td>38</td>\n",
       "      <td>2</td>\n",
       "      <td>0.02</td>\n",
       "    </tr>\n",
       "    <tr>\n",
       "      <th>30</th>\n",
       "      <td>39</td>\n",
       "      <td>2</td>\n",
       "      <td>0.02</td>\n",
       "    </tr>\n",
       "    <tr>\n",
       "      <th>16</th>\n",
       "      <td>40</td>\n",
       "      <td>3</td>\n",
       "      <td>0.03</td>\n",
       "    </tr>\n",
       "    <tr>\n",
       "      <th>35</th>\n",
       "      <td>41</td>\n",
       "      <td>1</td>\n",
       "      <td>0.01</td>\n",
       "    </tr>\n",
       "    <tr>\n",
       "      <th>43</th>\n",
       "      <td>42</td>\n",
       "      <td>1</td>\n",
       "      <td>0.01</td>\n",
       "    </tr>\n",
       "    <tr>\n",
       "      <th>38</th>\n",
       "      <td>43</td>\n",
       "      <td>1</td>\n",
       "      <td>0.01</td>\n",
       "    </tr>\n",
       "    <tr>\n",
       "      <th>40</th>\n",
       "      <td>44</td>\n",
       "      <td>1</td>\n",
       "      <td>0.01</td>\n",
       "    </tr>\n",
       "    <tr>\n",
       "      <th>42</th>\n",
       "      <td>45</td>\n",
       "      <td>1</td>\n",
       "      <td>0.01</td>\n",
       "    </tr>\n",
       "    <tr>\n",
       "      <th>24</th>\n",
       "      <td>46</td>\n",
       "      <td>2</td>\n",
       "      <td>0.02</td>\n",
       "    </tr>\n",
       "    <tr>\n",
       "      <th>31</th>\n",
       "      <td>47</td>\n",
       "      <td>2</td>\n",
       "      <td>0.02</td>\n",
       "    </tr>\n",
       "    <tr>\n",
       "      <th>22</th>\n",
       "      <td>49</td>\n",
       "      <td>2</td>\n",
       "      <td>0.02</td>\n",
       "    </tr>\n",
       "    <tr>\n",
       "      <th>33</th>\n",
       "      <td>50</td>\n",
       "      <td>1</td>\n",
       "      <td>0.01</td>\n",
       "    </tr>\n",
       "    <tr>\n",
       "      <th>20</th>\n",
       "      <td>51</td>\n",
       "      <td>2</td>\n",
       "      <td>0.02</td>\n",
       "    </tr>\n",
       "    <tr>\n",
       "      <th>1</th>\n",
       "      <td>52</td>\n",
       "      <td>4</td>\n",
       "      <td>0.04</td>\n",
       "    </tr>\n",
       "    <tr>\n",
       "      <th>25</th>\n",
       "      <td>53</td>\n",
       "      <td>2</td>\n",
       "      <td>0.02</td>\n",
       "    </tr>\n",
       "    <tr>\n",
       "      <th>28</th>\n",
       "      <td>54</td>\n",
       "      <td>2</td>\n",
       "      <td>0.02</td>\n",
       "    </tr>\n",
       "    <tr>\n",
       "      <th>10</th>\n",
       "      <td>55</td>\n",
       "      <td>3</td>\n",
       "      <td>0.03</td>\n",
       "    </tr>\n",
       "    <tr>\n",
       "      <th>36</th>\n",
       "      <td>56</td>\n",
       "      <td>1</td>\n",
       "      <td>0.01</td>\n",
       "    </tr>\n",
       "    <tr>\n",
       "      <th>21</th>\n",
       "      <td>57</td>\n",
       "      <td>2</td>\n",
       "      <td>0.02</td>\n",
       "    </tr>\n",
       "    <tr>\n",
       "      <th>5</th>\n",
       "      <td>58</td>\n",
       "      <td>3</td>\n",
       "      <td>0.03</td>\n",
       "    </tr>\n",
       "    <tr>\n",
       "      <th>27</th>\n",
       "      <td>59</td>\n",
       "      <td>2</td>\n",
       "      <td>0.02</td>\n",
       "    </tr>\n",
       "    <tr>\n",
       "      <th>12</th>\n",
       "      <td>61</td>\n",
       "      <td>3</td>\n",
       "      <td>0.03</td>\n",
       "    </tr>\n",
       "    <tr>\n",
       "      <th>37</th>\n",
       "      <td>62</td>\n",
       "      <td>1</td>\n",
       "      <td>0.01</td>\n",
       "    </tr>\n",
       "    <tr>\n",
       "      <th>11</th>\n",
       "      <td>63</td>\n",
       "      <td>3</td>\n",
       "      <td>0.03</td>\n",
       "    </tr>\n",
       "    <tr>\n",
       "      <th>7</th>\n",
       "      <td>66</td>\n",
       "      <td>3</td>\n",
       "      <td>0.03</td>\n",
       "    </tr>\n",
       "    <tr>\n",
       "      <th>4</th>\n",
       "      <td>67</td>\n",
       "      <td>3</td>\n",
       "      <td>0.03</td>\n",
       "    </tr>\n",
       "    <tr>\n",
       "      <th>29</th>\n",
       "      <td>69</td>\n",
       "      <td>2</td>\n",
       "      <td>0.02</td>\n",
       "    </tr>\n",
       "    <tr>\n",
       "      <th>26</th>\n",
       "      <td>70</td>\n",
       "      <td>2</td>\n",
       "      <td>0.02</td>\n",
       "    </tr>\n",
       "  </tbody>\n",
       "</table>\n",
       "</div>"
      ],
      "text/plain": [
       "    Edad  Frecuencia  Frec. Relativa\n",
       "34    18           1            0.01\n",
       "3     19           4            0.04\n",
       "39    20           1            0.01\n",
       "8     21           3            0.03\n",
       "41    23           1            0.01\n",
       "2     24           4            0.04\n",
       "18    26           2            0.02\n",
       "6     27           3            0.03\n",
       "9     29           3            0.03\n",
       "17    30           3            0.03\n",
       "14    31           3            0.03\n",
       "0     32           5            0.05\n",
       "23    33           2            0.02\n",
       "15    34           3            0.03\n",
       "13    35           3            0.03\n",
       "19    37           2            0.02\n",
       "32    38           2            0.02\n",
       "30    39           2            0.02\n",
       "16    40           3            0.03\n",
       "35    41           1            0.01\n",
       "43    42           1            0.01\n",
       "38    43           1            0.01\n",
       "40    44           1            0.01\n",
       "42    45           1            0.01\n",
       "24    46           2            0.02\n",
       "31    47           2            0.02\n",
       "22    49           2            0.02\n",
       "33    50           1            0.01\n",
       "20    51           2            0.02\n",
       "1     52           4            0.04\n",
       "25    53           2            0.02\n",
       "28    54           2            0.02\n",
       "10    55           3            0.03\n",
       "36    56           1            0.01\n",
       "21    57           2            0.02\n",
       "5     58           3            0.03\n",
       "27    59           2            0.02\n",
       "12    61           3            0.03\n",
       "37    62           1            0.01\n",
       "11    63           3            0.03\n",
       "7     66           3            0.03\n",
       "4     67           3            0.03\n",
       "29    69           2            0.02\n",
       "26    70           2            0.02"
      ]
     },
     "execution_count": 37,
     "metadata": {},
     "output_type": "execute_result"
    }
   ],
   "source": [
    "tabla_frecuencias"
   ]
  },
  {
   "cell_type": "code",
   "execution_count": 38,
   "id": "90bb3b95-6605-4526-a23c-809c94098588",
   "metadata": {},
   "outputs": [
    {
     "data": {
      "text/html": [
       "<div>\n",
       "<style scoped>\n",
       "    .dataframe tbody tr th:only-of-type {\n",
       "        vertical-align: middle;\n",
       "    }\n",
       "\n",
       "    .dataframe tbody tr th {\n",
       "        vertical-align: top;\n",
       "    }\n",
       "\n",
       "    .dataframe thead th {\n",
       "        text-align: right;\n",
       "    }\n",
       "</style>\n",
       "<table border=\"1\" class=\"dataframe\">\n",
       "  <thead>\n",
       "    <tr style=\"text-align: right;\">\n",
       "      <th></th>\n",
       "      <th>Edad</th>\n",
       "      <th>Frecuencia</th>\n",
       "      <th>Frec. Relativa</th>\n",
       "      <th>Frec. Porcentual</th>\n",
       "    </tr>\n",
       "  </thead>\n",
       "  <tbody>\n",
       "    <tr>\n",
       "      <th>34</th>\n",
       "      <td>18</td>\n",
       "      <td>1</td>\n",
       "      <td>0.01</td>\n",
       "      <td>1.0</td>\n",
       "    </tr>\n",
       "    <tr>\n",
       "      <th>3</th>\n",
       "      <td>19</td>\n",
       "      <td>4</td>\n",
       "      <td>0.04</td>\n",
       "      <td>4.0</td>\n",
       "    </tr>\n",
       "    <tr>\n",
       "      <th>39</th>\n",
       "      <td>20</td>\n",
       "      <td>1</td>\n",
       "      <td>0.01</td>\n",
       "      <td>1.0</td>\n",
       "    </tr>\n",
       "    <tr>\n",
       "      <th>8</th>\n",
       "      <td>21</td>\n",
       "      <td>3</td>\n",
       "      <td>0.03</td>\n",
       "      <td>3.0</td>\n",
       "    </tr>\n",
       "    <tr>\n",
       "      <th>41</th>\n",
       "      <td>23</td>\n",
       "      <td>1</td>\n",
       "      <td>0.01</td>\n",
       "      <td>1.0</td>\n",
       "    </tr>\n",
       "    <tr>\n",
       "      <th>2</th>\n",
       "      <td>24</td>\n",
       "      <td>4</td>\n",
       "      <td>0.04</td>\n",
       "      <td>4.0</td>\n",
       "    </tr>\n",
       "    <tr>\n",
       "      <th>18</th>\n",
       "      <td>26</td>\n",
       "      <td>2</td>\n",
       "      <td>0.02</td>\n",
       "      <td>2.0</td>\n",
       "    </tr>\n",
       "    <tr>\n",
       "      <th>6</th>\n",
       "      <td>27</td>\n",
       "      <td>3</td>\n",
       "      <td>0.03</td>\n",
       "      <td>3.0</td>\n",
       "    </tr>\n",
       "    <tr>\n",
       "      <th>9</th>\n",
       "      <td>29</td>\n",
       "      <td>3</td>\n",
       "      <td>0.03</td>\n",
       "      <td>3.0</td>\n",
       "    </tr>\n",
       "    <tr>\n",
       "      <th>17</th>\n",
       "      <td>30</td>\n",
       "      <td>3</td>\n",
       "      <td>0.03</td>\n",
       "      <td>3.0</td>\n",
       "    </tr>\n",
       "    <tr>\n",
       "      <th>14</th>\n",
       "      <td>31</td>\n",
       "      <td>3</td>\n",
       "      <td>0.03</td>\n",
       "      <td>3.0</td>\n",
       "    </tr>\n",
       "    <tr>\n",
       "      <th>0</th>\n",
       "      <td>32</td>\n",
       "      <td>5</td>\n",
       "      <td>0.05</td>\n",
       "      <td>5.0</td>\n",
       "    </tr>\n",
       "    <tr>\n",
       "      <th>23</th>\n",
       "      <td>33</td>\n",
       "      <td>2</td>\n",
       "      <td>0.02</td>\n",
       "      <td>2.0</td>\n",
       "    </tr>\n",
       "    <tr>\n",
       "      <th>15</th>\n",
       "      <td>34</td>\n",
       "      <td>3</td>\n",
       "      <td>0.03</td>\n",
       "      <td>3.0</td>\n",
       "    </tr>\n",
       "    <tr>\n",
       "      <th>13</th>\n",
       "      <td>35</td>\n",
       "      <td>3</td>\n",
       "      <td>0.03</td>\n",
       "      <td>3.0</td>\n",
       "    </tr>\n",
       "    <tr>\n",
       "      <th>19</th>\n",
       "      <td>37</td>\n",
       "      <td>2</td>\n",
       "      <td>0.02</td>\n",
       "      <td>2.0</td>\n",
       "    </tr>\n",
       "    <tr>\n",
       "      <th>32</th>\n",
       "      <td>38</td>\n",
       "      <td>2</td>\n",
       "      <td>0.02</td>\n",
       "      <td>2.0</td>\n",
       "    </tr>\n",
       "    <tr>\n",
       "      <th>30</th>\n",
       "      <td>39</td>\n",
       "      <td>2</td>\n",
       "      <td>0.02</td>\n",
       "      <td>2.0</td>\n",
       "    </tr>\n",
       "    <tr>\n",
       "      <th>16</th>\n",
       "      <td>40</td>\n",
       "      <td>3</td>\n",
       "      <td>0.03</td>\n",
       "      <td>3.0</td>\n",
       "    </tr>\n",
       "    <tr>\n",
       "      <th>35</th>\n",
       "      <td>41</td>\n",
       "      <td>1</td>\n",
       "      <td>0.01</td>\n",
       "      <td>1.0</td>\n",
       "    </tr>\n",
       "    <tr>\n",
       "      <th>43</th>\n",
       "      <td>42</td>\n",
       "      <td>1</td>\n",
       "      <td>0.01</td>\n",
       "      <td>1.0</td>\n",
       "    </tr>\n",
       "    <tr>\n",
       "      <th>38</th>\n",
       "      <td>43</td>\n",
       "      <td>1</td>\n",
       "      <td>0.01</td>\n",
       "      <td>1.0</td>\n",
       "    </tr>\n",
       "    <tr>\n",
       "      <th>40</th>\n",
       "      <td>44</td>\n",
       "      <td>1</td>\n",
       "      <td>0.01</td>\n",
       "      <td>1.0</td>\n",
       "    </tr>\n",
       "    <tr>\n",
       "      <th>42</th>\n",
       "      <td>45</td>\n",
       "      <td>1</td>\n",
       "      <td>0.01</td>\n",
       "      <td>1.0</td>\n",
       "    </tr>\n",
       "    <tr>\n",
       "      <th>24</th>\n",
       "      <td>46</td>\n",
       "      <td>2</td>\n",
       "      <td>0.02</td>\n",
       "      <td>2.0</td>\n",
       "    </tr>\n",
       "    <tr>\n",
       "      <th>31</th>\n",
       "      <td>47</td>\n",
       "      <td>2</td>\n",
       "      <td>0.02</td>\n",
       "      <td>2.0</td>\n",
       "    </tr>\n",
       "    <tr>\n",
       "      <th>22</th>\n",
       "      <td>49</td>\n",
       "      <td>2</td>\n",
       "      <td>0.02</td>\n",
       "      <td>2.0</td>\n",
       "    </tr>\n",
       "    <tr>\n",
       "      <th>33</th>\n",
       "      <td>50</td>\n",
       "      <td>1</td>\n",
       "      <td>0.01</td>\n",
       "      <td>1.0</td>\n",
       "    </tr>\n",
       "    <tr>\n",
       "      <th>20</th>\n",
       "      <td>51</td>\n",
       "      <td>2</td>\n",
       "      <td>0.02</td>\n",
       "      <td>2.0</td>\n",
       "    </tr>\n",
       "    <tr>\n",
       "      <th>1</th>\n",
       "      <td>52</td>\n",
       "      <td>4</td>\n",
       "      <td>0.04</td>\n",
       "      <td>4.0</td>\n",
       "    </tr>\n",
       "    <tr>\n",
       "      <th>25</th>\n",
       "      <td>53</td>\n",
       "      <td>2</td>\n",
       "      <td>0.02</td>\n",
       "      <td>2.0</td>\n",
       "    </tr>\n",
       "    <tr>\n",
       "      <th>28</th>\n",
       "      <td>54</td>\n",
       "      <td>2</td>\n",
       "      <td>0.02</td>\n",
       "      <td>2.0</td>\n",
       "    </tr>\n",
       "    <tr>\n",
       "      <th>10</th>\n",
       "      <td>55</td>\n",
       "      <td>3</td>\n",
       "      <td>0.03</td>\n",
       "      <td>3.0</td>\n",
       "    </tr>\n",
       "    <tr>\n",
       "      <th>36</th>\n",
       "      <td>56</td>\n",
       "      <td>1</td>\n",
       "      <td>0.01</td>\n",
       "      <td>1.0</td>\n",
       "    </tr>\n",
       "    <tr>\n",
       "      <th>21</th>\n",
       "      <td>57</td>\n",
       "      <td>2</td>\n",
       "      <td>0.02</td>\n",
       "      <td>2.0</td>\n",
       "    </tr>\n",
       "    <tr>\n",
       "      <th>5</th>\n",
       "      <td>58</td>\n",
       "      <td>3</td>\n",
       "      <td>0.03</td>\n",
       "      <td>3.0</td>\n",
       "    </tr>\n",
       "    <tr>\n",
       "      <th>27</th>\n",
       "      <td>59</td>\n",
       "      <td>2</td>\n",
       "      <td>0.02</td>\n",
       "      <td>2.0</td>\n",
       "    </tr>\n",
       "    <tr>\n",
       "      <th>12</th>\n",
       "      <td>61</td>\n",
       "      <td>3</td>\n",
       "      <td>0.03</td>\n",
       "      <td>3.0</td>\n",
       "    </tr>\n",
       "    <tr>\n",
       "      <th>37</th>\n",
       "      <td>62</td>\n",
       "      <td>1</td>\n",
       "      <td>0.01</td>\n",
       "      <td>1.0</td>\n",
       "    </tr>\n",
       "    <tr>\n",
       "      <th>11</th>\n",
       "      <td>63</td>\n",
       "      <td>3</td>\n",
       "      <td>0.03</td>\n",
       "      <td>3.0</td>\n",
       "    </tr>\n",
       "    <tr>\n",
       "      <th>7</th>\n",
       "      <td>66</td>\n",
       "      <td>3</td>\n",
       "      <td>0.03</td>\n",
       "      <td>3.0</td>\n",
       "    </tr>\n",
       "    <tr>\n",
       "      <th>4</th>\n",
       "      <td>67</td>\n",
       "      <td>3</td>\n",
       "      <td>0.03</td>\n",
       "      <td>3.0</td>\n",
       "    </tr>\n",
       "    <tr>\n",
       "      <th>29</th>\n",
       "      <td>69</td>\n",
       "      <td>2</td>\n",
       "      <td>0.02</td>\n",
       "      <td>2.0</td>\n",
       "    </tr>\n",
       "    <tr>\n",
       "      <th>26</th>\n",
       "      <td>70</td>\n",
       "      <td>2</td>\n",
       "      <td>0.02</td>\n",
       "      <td>2.0</td>\n",
       "    </tr>\n",
       "  </tbody>\n",
       "</table>\n",
       "</div>"
      ],
      "text/plain": [
       "    Edad  Frecuencia  Frec. Relativa  Frec. Porcentual\n",
       "34    18           1            0.01               1.0\n",
       "3     19           4            0.04               4.0\n",
       "39    20           1            0.01               1.0\n",
       "8     21           3            0.03               3.0\n",
       "41    23           1            0.01               1.0\n",
       "2     24           4            0.04               4.0\n",
       "18    26           2            0.02               2.0\n",
       "6     27           3            0.03               3.0\n",
       "9     29           3            0.03               3.0\n",
       "17    30           3            0.03               3.0\n",
       "14    31           3            0.03               3.0\n",
       "0     32           5            0.05               5.0\n",
       "23    33           2            0.02               2.0\n",
       "15    34           3            0.03               3.0\n",
       "13    35           3            0.03               3.0\n",
       "19    37           2            0.02               2.0\n",
       "32    38           2            0.02               2.0\n",
       "30    39           2            0.02               2.0\n",
       "16    40           3            0.03               3.0\n",
       "35    41           1            0.01               1.0\n",
       "43    42           1            0.01               1.0\n",
       "38    43           1            0.01               1.0\n",
       "40    44           1            0.01               1.0\n",
       "42    45           1            0.01               1.0\n",
       "24    46           2            0.02               2.0\n",
       "31    47           2            0.02               2.0\n",
       "22    49           2            0.02               2.0\n",
       "33    50           1            0.01               1.0\n",
       "20    51           2            0.02               2.0\n",
       "1     52           4            0.04               4.0\n",
       "25    53           2            0.02               2.0\n",
       "28    54           2            0.02               2.0\n",
       "10    55           3            0.03               3.0\n",
       "36    56           1            0.01               1.0\n",
       "21    57           2            0.02               2.0\n",
       "5     58           3            0.03               3.0\n",
       "27    59           2            0.02               2.0\n",
       "12    61           3            0.03               3.0\n",
       "37    62           1            0.01               1.0\n",
       "11    63           3            0.03               3.0\n",
       "7     66           3            0.03               3.0\n",
       "4     67           3            0.03               3.0\n",
       "29    69           2            0.02               2.0\n",
       "26    70           2            0.02               2.0"
      ]
     },
     "execution_count": 38,
     "metadata": {},
     "output_type": "execute_result"
    }
   ],
   "source": [
    "#Calcular la frecuencia porcentual\n",
    "tabla_frecuencias[\"Frec. Porcentual\"] = tabla_frecuencias[\"Frecuencia\"] /100 *100\n",
    "tabla_frecuencias"
   ]
  },
  {
   "cell_type": "code",
   "execution_count": 39,
   "id": "d93243b9-bf6f-4a17-9290-fd2cd30a6d6d",
   "metadata": {},
   "outputs": [
    {
     "data": {
      "text/html": [
       "<div>\n",
       "<style scoped>\n",
       "    .dataframe tbody tr th:only-of-type {\n",
       "        vertical-align: middle;\n",
       "    }\n",
       "\n",
       "    .dataframe tbody tr th {\n",
       "        vertical-align: top;\n",
       "    }\n",
       "\n",
       "    .dataframe thead th {\n",
       "        text-align: right;\n",
       "    }\n",
       "</style>\n",
       "<table border=\"1\" class=\"dataframe\">\n",
       "  <thead>\n",
       "    <tr style=\"text-align: right;\">\n",
       "      <th></th>\n",
       "      <th>Edad</th>\n",
       "      <th>Frecuencia</th>\n",
       "      <th>Frec. Relativa</th>\n",
       "      <th>Frec. Porcentual</th>\n",
       "      <th>Frec. Acumulada</th>\n",
       "    </tr>\n",
       "  </thead>\n",
       "  <tbody>\n",
       "    <tr>\n",
       "      <th>34</th>\n",
       "      <td>18</td>\n",
       "      <td>1</td>\n",
       "      <td>0.01</td>\n",
       "      <td>1.0</td>\n",
       "      <td>1</td>\n",
       "    </tr>\n",
       "    <tr>\n",
       "      <th>3</th>\n",
       "      <td>19</td>\n",
       "      <td>4</td>\n",
       "      <td>0.04</td>\n",
       "      <td>4.0</td>\n",
       "      <td>5</td>\n",
       "    </tr>\n",
       "    <tr>\n",
       "      <th>39</th>\n",
       "      <td>20</td>\n",
       "      <td>1</td>\n",
       "      <td>0.01</td>\n",
       "      <td>1.0</td>\n",
       "      <td>6</td>\n",
       "    </tr>\n",
       "    <tr>\n",
       "      <th>8</th>\n",
       "      <td>21</td>\n",
       "      <td>3</td>\n",
       "      <td>0.03</td>\n",
       "      <td>3.0</td>\n",
       "      <td>9</td>\n",
       "    </tr>\n",
       "    <tr>\n",
       "      <th>41</th>\n",
       "      <td>23</td>\n",
       "      <td>1</td>\n",
       "      <td>0.01</td>\n",
       "      <td>1.0</td>\n",
       "      <td>10</td>\n",
       "    </tr>\n",
       "    <tr>\n",
       "      <th>2</th>\n",
       "      <td>24</td>\n",
       "      <td>4</td>\n",
       "      <td>0.04</td>\n",
       "      <td>4.0</td>\n",
       "      <td>14</td>\n",
       "    </tr>\n",
       "    <tr>\n",
       "      <th>18</th>\n",
       "      <td>26</td>\n",
       "      <td>2</td>\n",
       "      <td>0.02</td>\n",
       "      <td>2.0</td>\n",
       "      <td>16</td>\n",
       "    </tr>\n",
       "    <tr>\n",
       "      <th>6</th>\n",
       "      <td>27</td>\n",
       "      <td>3</td>\n",
       "      <td>0.03</td>\n",
       "      <td>3.0</td>\n",
       "      <td>19</td>\n",
       "    </tr>\n",
       "    <tr>\n",
       "      <th>9</th>\n",
       "      <td>29</td>\n",
       "      <td>3</td>\n",
       "      <td>0.03</td>\n",
       "      <td>3.0</td>\n",
       "      <td>22</td>\n",
       "    </tr>\n",
       "    <tr>\n",
       "      <th>17</th>\n",
       "      <td>30</td>\n",
       "      <td>3</td>\n",
       "      <td>0.03</td>\n",
       "      <td>3.0</td>\n",
       "      <td>25</td>\n",
       "    </tr>\n",
       "    <tr>\n",
       "      <th>14</th>\n",
       "      <td>31</td>\n",
       "      <td>3</td>\n",
       "      <td>0.03</td>\n",
       "      <td>3.0</td>\n",
       "      <td>28</td>\n",
       "    </tr>\n",
       "    <tr>\n",
       "      <th>0</th>\n",
       "      <td>32</td>\n",
       "      <td>5</td>\n",
       "      <td>0.05</td>\n",
       "      <td>5.0</td>\n",
       "      <td>33</td>\n",
       "    </tr>\n",
       "    <tr>\n",
       "      <th>23</th>\n",
       "      <td>33</td>\n",
       "      <td>2</td>\n",
       "      <td>0.02</td>\n",
       "      <td>2.0</td>\n",
       "      <td>35</td>\n",
       "    </tr>\n",
       "    <tr>\n",
       "      <th>15</th>\n",
       "      <td>34</td>\n",
       "      <td>3</td>\n",
       "      <td>0.03</td>\n",
       "      <td>3.0</td>\n",
       "      <td>38</td>\n",
       "    </tr>\n",
       "    <tr>\n",
       "      <th>13</th>\n",
       "      <td>35</td>\n",
       "      <td>3</td>\n",
       "      <td>0.03</td>\n",
       "      <td>3.0</td>\n",
       "      <td>41</td>\n",
       "    </tr>\n",
       "    <tr>\n",
       "      <th>19</th>\n",
       "      <td>37</td>\n",
       "      <td>2</td>\n",
       "      <td>0.02</td>\n",
       "      <td>2.0</td>\n",
       "      <td>43</td>\n",
       "    </tr>\n",
       "    <tr>\n",
       "      <th>32</th>\n",
       "      <td>38</td>\n",
       "      <td>2</td>\n",
       "      <td>0.02</td>\n",
       "      <td>2.0</td>\n",
       "      <td>45</td>\n",
       "    </tr>\n",
       "    <tr>\n",
       "      <th>30</th>\n",
       "      <td>39</td>\n",
       "      <td>2</td>\n",
       "      <td>0.02</td>\n",
       "      <td>2.0</td>\n",
       "      <td>47</td>\n",
       "    </tr>\n",
       "    <tr>\n",
       "      <th>16</th>\n",
       "      <td>40</td>\n",
       "      <td>3</td>\n",
       "      <td>0.03</td>\n",
       "      <td>3.0</td>\n",
       "      <td>50</td>\n",
       "    </tr>\n",
       "    <tr>\n",
       "      <th>35</th>\n",
       "      <td>41</td>\n",
       "      <td>1</td>\n",
       "      <td>0.01</td>\n",
       "      <td>1.0</td>\n",
       "      <td>51</td>\n",
       "    </tr>\n",
       "    <tr>\n",
       "      <th>43</th>\n",
       "      <td>42</td>\n",
       "      <td>1</td>\n",
       "      <td>0.01</td>\n",
       "      <td>1.0</td>\n",
       "      <td>52</td>\n",
       "    </tr>\n",
       "    <tr>\n",
       "      <th>38</th>\n",
       "      <td>43</td>\n",
       "      <td>1</td>\n",
       "      <td>0.01</td>\n",
       "      <td>1.0</td>\n",
       "      <td>53</td>\n",
       "    </tr>\n",
       "    <tr>\n",
       "      <th>40</th>\n",
       "      <td>44</td>\n",
       "      <td>1</td>\n",
       "      <td>0.01</td>\n",
       "      <td>1.0</td>\n",
       "      <td>54</td>\n",
       "    </tr>\n",
       "    <tr>\n",
       "      <th>42</th>\n",
       "      <td>45</td>\n",
       "      <td>1</td>\n",
       "      <td>0.01</td>\n",
       "      <td>1.0</td>\n",
       "      <td>55</td>\n",
       "    </tr>\n",
       "    <tr>\n",
       "      <th>24</th>\n",
       "      <td>46</td>\n",
       "      <td>2</td>\n",
       "      <td>0.02</td>\n",
       "      <td>2.0</td>\n",
       "      <td>57</td>\n",
       "    </tr>\n",
       "    <tr>\n",
       "      <th>31</th>\n",
       "      <td>47</td>\n",
       "      <td>2</td>\n",
       "      <td>0.02</td>\n",
       "      <td>2.0</td>\n",
       "      <td>59</td>\n",
       "    </tr>\n",
       "    <tr>\n",
       "      <th>22</th>\n",
       "      <td>49</td>\n",
       "      <td>2</td>\n",
       "      <td>0.02</td>\n",
       "      <td>2.0</td>\n",
       "      <td>61</td>\n",
       "    </tr>\n",
       "    <tr>\n",
       "      <th>33</th>\n",
       "      <td>50</td>\n",
       "      <td>1</td>\n",
       "      <td>0.01</td>\n",
       "      <td>1.0</td>\n",
       "      <td>62</td>\n",
       "    </tr>\n",
       "    <tr>\n",
       "      <th>20</th>\n",
       "      <td>51</td>\n",
       "      <td>2</td>\n",
       "      <td>0.02</td>\n",
       "      <td>2.0</td>\n",
       "      <td>64</td>\n",
       "    </tr>\n",
       "    <tr>\n",
       "      <th>1</th>\n",
       "      <td>52</td>\n",
       "      <td>4</td>\n",
       "      <td>0.04</td>\n",
       "      <td>4.0</td>\n",
       "      <td>68</td>\n",
       "    </tr>\n",
       "    <tr>\n",
       "      <th>25</th>\n",
       "      <td>53</td>\n",
       "      <td>2</td>\n",
       "      <td>0.02</td>\n",
       "      <td>2.0</td>\n",
       "      <td>70</td>\n",
       "    </tr>\n",
       "    <tr>\n",
       "      <th>28</th>\n",
       "      <td>54</td>\n",
       "      <td>2</td>\n",
       "      <td>0.02</td>\n",
       "      <td>2.0</td>\n",
       "      <td>72</td>\n",
       "    </tr>\n",
       "    <tr>\n",
       "      <th>10</th>\n",
       "      <td>55</td>\n",
       "      <td>3</td>\n",
       "      <td>0.03</td>\n",
       "      <td>3.0</td>\n",
       "      <td>75</td>\n",
       "    </tr>\n",
       "    <tr>\n",
       "      <th>36</th>\n",
       "      <td>56</td>\n",
       "      <td>1</td>\n",
       "      <td>0.01</td>\n",
       "      <td>1.0</td>\n",
       "      <td>76</td>\n",
       "    </tr>\n",
       "    <tr>\n",
       "      <th>21</th>\n",
       "      <td>57</td>\n",
       "      <td>2</td>\n",
       "      <td>0.02</td>\n",
       "      <td>2.0</td>\n",
       "      <td>78</td>\n",
       "    </tr>\n",
       "    <tr>\n",
       "      <th>5</th>\n",
       "      <td>58</td>\n",
       "      <td>3</td>\n",
       "      <td>0.03</td>\n",
       "      <td>3.0</td>\n",
       "      <td>81</td>\n",
       "    </tr>\n",
       "    <tr>\n",
       "      <th>27</th>\n",
       "      <td>59</td>\n",
       "      <td>2</td>\n",
       "      <td>0.02</td>\n",
       "      <td>2.0</td>\n",
       "      <td>83</td>\n",
       "    </tr>\n",
       "    <tr>\n",
       "      <th>12</th>\n",
       "      <td>61</td>\n",
       "      <td>3</td>\n",
       "      <td>0.03</td>\n",
       "      <td>3.0</td>\n",
       "      <td>86</td>\n",
       "    </tr>\n",
       "    <tr>\n",
       "      <th>37</th>\n",
       "      <td>62</td>\n",
       "      <td>1</td>\n",
       "      <td>0.01</td>\n",
       "      <td>1.0</td>\n",
       "      <td>87</td>\n",
       "    </tr>\n",
       "    <tr>\n",
       "      <th>11</th>\n",
       "      <td>63</td>\n",
       "      <td>3</td>\n",
       "      <td>0.03</td>\n",
       "      <td>3.0</td>\n",
       "      <td>90</td>\n",
       "    </tr>\n",
       "    <tr>\n",
       "      <th>7</th>\n",
       "      <td>66</td>\n",
       "      <td>3</td>\n",
       "      <td>0.03</td>\n",
       "      <td>3.0</td>\n",
       "      <td>93</td>\n",
       "    </tr>\n",
       "    <tr>\n",
       "      <th>4</th>\n",
       "      <td>67</td>\n",
       "      <td>3</td>\n",
       "      <td>0.03</td>\n",
       "      <td>3.0</td>\n",
       "      <td>96</td>\n",
       "    </tr>\n",
       "    <tr>\n",
       "      <th>29</th>\n",
       "      <td>69</td>\n",
       "      <td>2</td>\n",
       "      <td>0.02</td>\n",
       "      <td>2.0</td>\n",
       "      <td>98</td>\n",
       "    </tr>\n",
       "    <tr>\n",
       "      <th>26</th>\n",
       "      <td>70</td>\n",
       "      <td>2</td>\n",
       "      <td>0.02</td>\n",
       "      <td>2.0</td>\n",
       "      <td>100</td>\n",
       "    </tr>\n",
       "  </tbody>\n",
       "</table>\n",
       "</div>"
      ],
      "text/plain": [
       "    Edad  Frecuencia  Frec. Relativa  Frec. Porcentual  Frec. Acumulada\n",
       "34    18           1            0.01               1.0                1\n",
       "3     19           4            0.04               4.0                5\n",
       "39    20           1            0.01               1.0                6\n",
       "8     21           3            0.03               3.0                9\n",
       "41    23           1            0.01               1.0               10\n",
       "2     24           4            0.04               4.0               14\n",
       "18    26           2            0.02               2.0               16\n",
       "6     27           3            0.03               3.0               19\n",
       "9     29           3            0.03               3.0               22\n",
       "17    30           3            0.03               3.0               25\n",
       "14    31           3            0.03               3.0               28\n",
       "0     32           5            0.05               5.0               33\n",
       "23    33           2            0.02               2.0               35\n",
       "15    34           3            0.03               3.0               38\n",
       "13    35           3            0.03               3.0               41\n",
       "19    37           2            0.02               2.0               43\n",
       "32    38           2            0.02               2.0               45\n",
       "30    39           2            0.02               2.0               47\n",
       "16    40           3            0.03               3.0               50\n",
       "35    41           1            0.01               1.0               51\n",
       "43    42           1            0.01               1.0               52\n",
       "38    43           1            0.01               1.0               53\n",
       "40    44           1            0.01               1.0               54\n",
       "42    45           1            0.01               1.0               55\n",
       "24    46           2            0.02               2.0               57\n",
       "31    47           2            0.02               2.0               59\n",
       "22    49           2            0.02               2.0               61\n",
       "33    50           1            0.01               1.0               62\n",
       "20    51           2            0.02               2.0               64\n",
       "1     52           4            0.04               4.0               68\n",
       "25    53           2            0.02               2.0               70\n",
       "28    54           2            0.02               2.0               72\n",
       "10    55           3            0.03               3.0               75\n",
       "36    56           1            0.01               1.0               76\n",
       "21    57           2            0.02               2.0               78\n",
       "5     58           3            0.03               3.0               81\n",
       "27    59           2            0.02               2.0               83\n",
       "12    61           3            0.03               3.0               86\n",
       "37    62           1            0.01               1.0               87\n",
       "11    63           3            0.03               3.0               90\n",
       "7     66           3            0.03               3.0               93\n",
       "4     67           3            0.03               3.0               96\n",
       "29    69           2            0.02               2.0               98\n",
       "26    70           2            0.02               2.0              100"
      ]
     },
     "execution_count": 39,
     "metadata": {},
     "output_type": "execute_result"
    }
   ],
   "source": [
    "#Calcular la frecuencia acumulada\n",
    "#Agregamos una nueva columna con el calculo\n",
    "tabla_frecuencias[\"Frec. Acumulada\"] = tabla_frecuencias[\"Frecuencia\"].cumsum()\n",
    "tabla_frecuencias"
   ]
  },
  {
   "cell_type": "markdown",
   "id": "a3de2693-6c6c-441f-943b-ddc1d983bbe8",
   "metadata": {},
   "source": [
    "## Regla de Sturges\n",
    "1-. Es una regla que sirve para calcular el numero de clases o intervalos idóneo, en los que se debe de dividir un conjunto de datos.\n",
    "$\n",
    "c = 1+ Log_2 (N)\n",
    "$"
   ]
  },
  {
   "cell_type": "code",
   "execution_count": 40,
   "id": "2924dc94-febb-462e-9d1c-128122bb43ca",
   "metadata": {},
   "outputs": [],
   "source": [
    "# Libreria de funciones matematicas \n",
    "import math "
   ]
  },
  {
   "cell_type": "code",
   "execution_count": 41,
   "id": "161dd89c-6189-44ff-a617-7886efca5c0e",
   "metadata": {},
   "outputs": [
    {
     "name": "stdout",
     "output_type": "stream",
     "text": [
      "[42, 32, 39, 47, 18, 52, 30, 24, 41, 34, 59, 52, 38, 35, 52, 32, 32, 45, 69, 58, 32, 63, 19, 54, 29, 30, 21, 19, 21, 39, 66, 67, 50, 38, 35, 19, 27, 34, 58, 58, 61, 66, 66, 61, 59, 26, 33, 29, 69, 20, 34, 29, 55, 37, 26, 47, 53, 23, 24, 44, 51, 37, 55, 55, 24, 62, 67, 43, 31, 31, 21, 19, 56, 63, 30, 67, 40, 61, 53, 57, 49, 46, 57, 40, 32, 27, 31, 52, 51, 70, 24, 46, 35, 70, 54, 40, 49, 63, 27, 33]\n"
     ]
    }
   ],
   "source": [
    "print (edades)"
   ]
  },
  {
   "cell_type": "code",
   "execution_count": 42,
   "id": "d4c80b13-eaba-4eb5-aa95-189e754e2c63",
   "metadata": {},
   "outputs": [
    {
     "data": {
      "text/plain": [
       "Text(0, 0.5, 'Frecuencia')"
      ]
     },
     "execution_count": 42,
     "metadata": {},
     "output_type": "execute_result"
    },
    {
     "data": {
      "image/png": "[encoded data removed]",
      "text/plain": [
       "<Figure size 640x480 with 1 Axes>"
      ]
     },
     "metadata": {},
     "output_type": "display_data"
    }
   ],
   "source": [
    "plt.hist(edades, alpha=0.5, rwidth=0.95)\n",
    "plt.title(\"Histograma de edades basado en valores estandar de matplotlib\")\n",
    "plt.xlabel(\"Edades\")\n",
    "plt.ylabel(\"Frecuencia\")"
   ]
  },
  {
   "cell_type": "code",
   "execution_count": 43,
   "id": "8d64be80-2646-4879-9478-487181841669",
   "metadata": {},
   "outputs": [
    {
     "data": {
      "text/html": [
       "<div>\n",
       "<style scoped>\n",
       "    .dataframe tbody tr th:only-of-type {\n",
       "        vertical-align: middle;\n",
       "    }\n",
       "\n",
       "    .dataframe tbody tr th {\n",
       "        vertical-align: top;\n",
       "    }\n",
       "\n",
       "    .dataframe thead th {\n",
       "        text-align: right;\n",
       "    }\n",
       "</style>\n",
       "<table border=\"1\" class=\"dataframe\">\n",
       "  <thead>\n",
       "    <tr style=\"text-align: right;\">\n",
       "      <th></th>\n",
       "      <th>Edad</th>\n",
       "    </tr>\n",
       "  </thead>\n",
       "  <tbody>\n",
       "    <tr>\n",
       "      <th>0</th>\n",
       "      <td>42</td>\n",
       "    </tr>\n",
       "    <tr>\n",
       "      <th>1</th>\n",
       "      <td>32</td>\n",
       "    </tr>\n",
       "    <tr>\n",
       "      <th>2</th>\n",
       "      <td>39</td>\n",
       "    </tr>\n",
       "    <tr>\n",
       "      <th>3</th>\n",
       "      <td>47</td>\n",
       "    </tr>\n",
       "    <tr>\n",
       "      <th>4</th>\n",
       "      <td>18</td>\n",
       "    </tr>\n",
       "    <tr>\n",
       "      <th>...</th>\n",
       "      <td>...</td>\n",
       "    </tr>\n",
       "    <tr>\n",
       "      <th>95</th>\n",
       "      <td>40</td>\n",
       "    </tr>\n",
       "    <tr>\n",
       "      <th>96</th>\n",
       "      <td>49</td>\n",
       "    </tr>\n",
       "    <tr>\n",
       "      <th>97</th>\n",
       "      <td>63</td>\n",
       "    </tr>\n",
       "    <tr>\n",
       "      <th>98</th>\n",
       "      <td>27</td>\n",
       "    </tr>\n",
       "    <tr>\n",
       "      <th>99</th>\n",
       "      <td>33</td>\n",
       "    </tr>\n",
       "  </tbody>\n",
       "</table>\n",
       "<p>100 rows × 1 columns</p>\n",
       "</div>"
      ],
      "text/plain": [
       "    Edad\n",
       "0     42\n",
       "1     32\n",
       "2     39\n",
       "3     47\n",
       "4     18\n",
       "..   ...\n",
       "95    40\n",
       "96    49\n",
       "97    63\n",
       "98    27\n",
       "99    33\n",
       "\n",
       "[100 rows x 1 columns]"
      ]
     },
     "execution_count": 43,
     "metadata": {},
     "output_type": "execute_result"
    }
   ],
   "source": [
    "df_edades_sturges = pd.DataFrame({\"Edad\": edades})\n",
    "df_edades_sturges                               "
   ]
  },
  {
   "cell_type": "code",
   "execution_count": 44,
   "id": "eeb5d4eb-6bed-4b3c-ad4e-0e025d101789",
   "metadata": {},
   "outputs": [
    {
     "name": "stdout",
     "output_type": "stream",
     "text": [
      "Valor de n= 100 \n",
      "K o numero de intervalos o clases= 7\n"
     ]
    }
   ],
   "source": [
    "# Calcular el numero de intervalos o clases utilizando la regla de Sturges\n",
    "\n",
    "n = len(edades)\n",
    "k = int (1+ math.log2(n))\n",
    "\n",
    "print (\"Valor de n=\", n, \"\\nK o numero de intervalos o clases=\", k) "
   ]
  },
  {
   "cell_type": "code",
   "execution_count": 45,
   "id": "87ed926f-f0b6-47bb-a2d0-f8471dc5c99d",
   "metadata": {},
   "outputs": [
    {
     "data": {
      "text/html": [
       "<div>\n",
       "<style scoped>\n",
       "    .dataframe tbody tr th:only-of-type {\n",
       "        vertical-align: middle;\n",
       "    }\n",
       "\n",
       "    .dataframe tbody tr th {\n",
       "        vertical-align: top;\n",
       "    }\n",
       "\n",
       "    .dataframe thead th {\n",
       "        text-align: right;\n",
       "    }\n",
       "</style>\n",
       "<table border=\"1\" class=\"dataframe\">\n",
       "  <thead>\n",
       "    <tr style=\"text-align: right;\">\n",
       "      <th></th>\n",
       "      <th>Edad</th>\n",
       "      <th>count</th>\n",
       "    </tr>\n",
       "  </thead>\n",
       "  <tbody>\n",
       "    <tr>\n",
       "      <th>0</th>\n",
       "      <td>(25.429, 32.857]</td>\n",
       "      <td>19</td>\n",
       "    </tr>\n",
       "    <tr>\n",
       "      <th>1</th>\n",
       "      <td>(32.857, 40.286]</td>\n",
       "      <td>17</td>\n",
       "    </tr>\n",
       "    <tr>\n",
       "      <th>2</th>\n",
       "      <td>(47.714, 55.143]</td>\n",
       "      <td>16</td>\n",
       "    </tr>\n",
       "    <tr>\n",
       "      <th>3</th>\n",
       "      <td>(17.948, 25.429]</td>\n",
       "      <td>14</td>\n",
       "    </tr>\n",
       "    <tr>\n",
       "      <th>4</th>\n",
       "      <td>(62.571, 70.0]</td>\n",
       "      <td>13</td>\n",
       "    </tr>\n",
       "    <tr>\n",
       "      <th>5</th>\n",
       "      <td>(55.143, 62.571]</td>\n",
       "      <td>12</td>\n",
       "    </tr>\n",
       "    <tr>\n",
       "      <th>6</th>\n",
       "      <td>(40.286, 47.714]</td>\n",
       "      <td>9</td>\n",
       "    </tr>\n",
       "  </tbody>\n",
       "</table>\n",
       "</div>"
      ],
      "text/plain": [
       "               Edad  count\n",
       "0  (25.429, 32.857]     19\n",
       "1  (32.857, 40.286]     17\n",
       "2  (47.714, 55.143]     16\n",
       "3  (17.948, 25.429]     14\n",
       "4    (62.571, 70.0]     13\n",
       "5  (55.143, 62.571]     12\n",
       "6  (40.286, 47.714]      9"
      ]
     },
     "execution_count": 45,
     "metadata": {},
     "output_type": "execute_result"
    }
   ],
   "source": [
    "tabla_frec_sturges = pd.cut(df_edades_sturges[\"Edad\"], bins = k).value_counts().reset_index() \n",
    "tabla_frec_sturges"
   ]
  },
  {
   "cell_type": "code",
   "execution_count": 46,
   "id": "5d4abcde-4ca9-49b9-a81f-61300ac52715",
   "metadata": {},
   "outputs": [
    {
     "data": {
      "text/html": [
       "<div>\n",
       "<style scoped>\n",
       "    .dataframe tbody tr th:only-of-type {\n",
       "        vertical-align: middle;\n",
       "    }\n",
       "\n",
       "    .dataframe tbody tr th {\n",
       "        vertical-align: top;\n",
       "    }\n",
       "\n",
       "    .dataframe thead th {\n",
       "        text-align: right;\n",
       "    }\n",
       "</style>\n",
       "<table border=\"1\" class=\"dataframe\">\n",
       "  <thead>\n",
       "    <tr style=\"text-align: right;\">\n",
       "      <th></th>\n",
       "      <th>Clase</th>\n",
       "      <th>Frecuencia</th>\n",
       "    </tr>\n",
       "  </thead>\n",
       "  <tbody>\n",
       "    <tr>\n",
       "      <th>0</th>\n",
       "      <td>(25.429, 32.857]</td>\n",
       "      <td>19</td>\n",
       "    </tr>\n",
       "    <tr>\n",
       "      <th>1</th>\n",
       "      <td>(32.857, 40.286]</td>\n",
       "      <td>17</td>\n",
       "    </tr>\n",
       "    <tr>\n",
       "      <th>2</th>\n",
       "      <td>(47.714, 55.143]</td>\n",
       "      <td>16</td>\n",
       "    </tr>\n",
       "    <tr>\n",
       "      <th>3</th>\n",
       "      <td>(17.948, 25.429]</td>\n",
       "      <td>14</td>\n",
       "    </tr>\n",
       "    <tr>\n",
       "      <th>4</th>\n",
       "      <td>(62.571, 70.0]</td>\n",
       "      <td>13</td>\n",
       "    </tr>\n",
       "    <tr>\n",
       "      <th>5</th>\n",
       "      <td>(55.143, 62.571]</td>\n",
       "      <td>12</td>\n",
       "    </tr>\n",
       "    <tr>\n",
       "      <th>6</th>\n",
       "      <td>(40.286, 47.714]</td>\n",
       "      <td>9</td>\n",
       "    </tr>\n",
       "  </tbody>\n",
       "</table>\n",
       "</div>"
      ],
      "text/plain": [
       "              Clase  Frecuencia\n",
       "0  (25.429, 32.857]          19\n",
       "1  (32.857, 40.286]          17\n",
       "2  (47.714, 55.143]          16\n",
       "3  (17.948, 25.429]          14\n",
       "4    (62.571, 70.0]          13\n",
       "5  (55.143, 62.571]          12\n",
       "6  (40.286, 47.714]           9"
      ]
     },
     "execution_count": 46,
     "metadata": {},
     "output_type": "execute_result"
    }
   ],
   "source": [
    "tabla_frec_sturges.columns = [\"Clase\", \"Frecuencia\"]\n",
    "tabla_frec_sturges"
   ]
  },
  {
   "cell_type": "code",
   "execution_count": 47,
   "id": "ef686a6f-83c9-49bb-8755-895cdcf9f789",
   "metadata": {},
   "outputs": [
    {
     "data": {
      "text/html": [
       "<div>\n",
       "<style scoped>\n",
       "    .dataframe tbody tr th:only-of-type {\n",
       "        vertical-align: middle;\n",
       "    }\n",
       "\n",
       "    .dataframe tbody tr th {\n",
       "        vertical-align: top;\n",
       "    }\n",
       "\n",
       "    .dataframe thead th {\n",
       "        text-align: right;\n",
       "    }\n",
       "</style>\n",
       "<table border=\"1\" class=\"dataframe\">\n",
       "  <thead>\n",
       "    <tr style=\"text-align: right;\">\n",
       "      <th></th>\n",
       "      <th>Clase</th>\n",
       "      <th>Frecuencia</th>\n",
       "    </tr>\n",
       "  </thead>\n",
       "  <tbody>\n",
       "    <tr>\n",
       "      <th>3</th>\n",
       "      <td>(17.948, 25.429]</td>\n",
       "      <td>14</td>\n",
       "    </tr>\n",
       "    <tr>\n",
       "      <th>0</th>\n",
       "      <td>(25.429, 32.857]</td>\n",
       "      <td>19</td>\n",
       "    </tr>\n",
       "    <tr>\n",
       "      <th>1</th>\n",
       "      <td>(32.857, 40.286]</td>\n",
       "      <td>17</td>\n",
       "    </tr>\n",
       "    <tr>\n",
       "      <th>6</th>\n",
       "      <td>(40.286, 47.714]</td>\n",
       "      <td>9</td>\n",
       "    </tr>\n",
       "    <tr>\n",
       "      <th>2</th>\n",
       "      <td>(47.714, 55.143]</td>\n",
       "      <td>16</td>\n",
       "    </tr>\n",
       "    <tr>\n",
       "      <th>5</th>\n",
       "      <td>(55.143, 62.571]</td>\n",
       "      <td>12</td>\n",
       "    </tr>\n",
       "    <tr>\n",
       "      <th>4</th>\n",
       "      <td>(62.571, 70.0]</td>\n",
       "      <td>13</td>\n",
       "    </tr>\n",
       "  </tbody>\n",
       "</table>\n",
       "</div>"
      ],
      "text/plain": [
       "              Clase  Frecuencia\n",
       "3  (17.948, 25.429]          14\n",
       "0  (25.429, 32.857]          19\n",
       "1  (32.857, 40.286]          17\n",
       "6  (40.286, 47.714]           9\n",
       "2  (47.714, 55.143]          16\n",
       "5  (55.143, 62.571]          12\n",
       "4    (62.571, 70.0]          13"
      ]
     },
     "execution_count": 47,
     "metadata": {},
     "output_type": "execute_result"
    }
   ],
   "source": [
    "#Ordenar la tabla de frecuencias por la clase o el intervalo\n",
    "tabla_frec_sturges = tabla_frec_sturges.sort_values(by  =\"Clase\" )\n",
    "tabla_frec_sturges"
   ]
  },
  {
   "cell_type": "code",
   "execution_count": 48,
   "id": "6e9cb11b-6763-4771-8507-98fb59ec1096",
   "metadata": {},
   "outputs": [
    {
     "data": {
      "text/html": [
       "<div>\n",
       "<style scoped>\n",
       "    .dataframe tbody tr th:only-of-type {\n",
       "        vertical-align: middle;\n",
       "    }\n",
       "\n",
       "    .dataframe tbody tr th {\n",
       "        vertical-align: top;\n",
       "    }\n",
       "\n",
       "    .dataframe thead th {\n",
       "        text-align: right;\n",
       "    }\n",
       "</style>\n",
       "<table border=\"1\" class=\"dataframe\">\n",
       "  <thead>\n",
       "    <tr style=\"text-align: right;\">\n",
       "      <th></th>\n",
       "      <th>Clase</th>\n",
       "      <th>Frecuencia</th>\n",
       "      <th>Frec. Relativa</th>\n",
       "      <th>Frec. Porcentual</th>\n",
       "      <th>Frec. Acumulada</th>\n",
       "    </tr>\n",
       "  </thead>\n",
       "  <tbody>\n",
       "    <tr>\n",
       "      <th>3</th>\n",
       "      <td>(17.948, 25.429]</td>\n",
       "      <td>14</td>\n",
       "      <td>0.14</td>\n",
       "      <td>14.0</td>\n",
       "      <td>14</td>\n",
       "    </tr>\n",
       "    <tr>\n",
       "      <th>0</th>\n",
       "      <td>(25.429, 32.857]</td>\n",
       "      <td>19</td>\n",
       "      <td>0.19</td>\n",
       "      <td>19.0</td>\n",
       "      <td>33</td>\n",
       "    </tr>\n",
       "    <tr>\n",
       "      <th>1</th>\n",
       "      <td>(32.857, 40.286]</td>\n",
       "      <td>17</td>\n",
       "      <td>0.17</td>\n",
       "      <td>17.0</td>\n",
       "      <td>50</td>\n",
       "    </tr>\n",
       "    <tr>\n",
       "      <th>6</th>\n",
       "      <td>(40.286, 47.714]</td>\n",
       "      <td>9</td>\n",
       "      <td>0.09</td>\n",
       "      <td>9.0</td>\n",
       "      <td>59</td>\n",
       "    </tr>\n",
       "    <tr>\n",
       "      <th>2</th>\n",
       "      <td>(47.714, 55.143]</td>\n",
       "      <td>16</td>\n",
       "      <td>0.16</td>\n",
       "      <td>16.0</td>\n",
       "      <td>75</td>\n",
       "    </tr>\n",
       "    <tr>\n",
       "      <th>5</th>\n",
       "      <td>(55.143, 62.571]</td>\n",
       "      <td>12</td>\n",
       "      <td>0.12</td>\n",
       "      <td>12.0</td>\n",
       "      <td>87</td>\n",
       "    </tr>\n",
       "    <tr>\n",
       "      <th>4</th>\n",
       "      <td>(62.571, 70.0]</td>\n",
       "      <td>13</td>\n",
       "      <td>0.13</td>\n",
       "      <td>13.0</td>\n",
       "      <td>100</td>\n",
       "    </tr>\n",
       "  </tbody>\n",
       "</table>\n",
       "</div>"
      ],
      "text/plain": [
       "              Clase  Frecuencia  Frec. Relativa  Frec. Porcentual  \\\n",
       "3  (17.948, 25.429]          14            0.14              14.0   \n",
       "0  (25.429, 32.857]          19            0.19              19.0   \n",
       "1  (32.857, 40.286]          17            0.17              17.0   \n",
       "6  (40.286, 47.714]           9            0.09               9.0   \n",
       "2  (47.714, 55.143]          16            0.16              16.0   \n",
       "5  (55.143, 62.571]          12            0.12              12.0   \n",
       "4    (62.571, 70.0]          13            0.13              13.0   \n",
       "\n",
       "   Frec. Acumulada  \n",
       "3               14  \n",
       "0               33  \n",
       "1               50  \n",
       "6               59  \n",
       "2               75  \n",
       "5               87  \n",
       "4              100  "
      ]
     },
     "execution_count": 48,
     "metadata": {},
     "output_type": "execute_result"
    }
   ],
   "source": [
    "tabla_frec_sturges[\"Frec. Relativa\"] = tabla_frec_sturges [\"Frecuencia\"]/n\n",
    "tabla_frec_sturges[\"Frec. Porcentual\"] = tabla_frec_sturges [\"Frecuencia\"]/n * 100\n",
    "tabla_frec_sturges[\"Frec. Acumulada\"] = tabla_frec_sturges [\"Frecuencia\"].cumsum()\n",
    "tabla_frec_sturges"
   ]
  },
  {
   "cell_type": "code",
   "execution_count": 49,
   "id": "21b40be2-dbaf-4f6e-b2f8-20dec298772a",
   "metadata": {},
   "outputs": [
    {
     "data": {
      "text/plain": [
       "Text(0, 0.5, 'Frecuencia')"
      ]
     },
     "execution_count": 49,
     "metadata": {},
     "output_type": "execute_result"
    },
    {
     "data": {
      "image/png": "[encoded data removed]",
      "text/plain": [
       "<Figure size 640x480 with 1 Axes>"
      ]
     },
     "metadata": {},
     "output_type": "display_data"
    }
   ],
   "source": [
    "plt.hist(df_edades_sturges[\"Edad\"], bins=k, alpha=0.5, rwidth=.95)\n",
    "plt.title(\"Histograma de edades basado en la regla de Sturges\")\n",
    "plt.xlabel(\"Edades\")\n",
    "plt.ylabel(\"Frecuencia\")"
   ]
  },
  {
   "cell_type": "code",
   "execution_count": 50,
   "id": "3d42e7f7-df9f-4663-a1bb-365dd6039b4c",
   "metadata": {},
   "outputs": [
    {
     "name": "stdout",
     "output_type": "stream",
     "text": [
      "[84.12, 84.32, 57.52, 59.09, 72.59, 59.96, 80.93, 98.07, 65.28, 90.86, 62.29, 60.41, 52.6, 98.03, 77.46, 74.75, 70.05, 78.38, 56.05, 91.21, 74.06, 55.14, 99.13, 78.71, 86.91, 81.15, 70.77, 87.41, 87.56, 90.99, 95.17, 66.7, 84.2, 89.11, 90.61, 94.59, 71.86, 63.73, 66.79, 91.17, 88.66, 53.17, 76.12, 93.63, 69.23, 75.01, 72.97, 70.93, 82.53, 52.94, 86.54, 67.66, 83.94, 95.36, 65.45, 61.29, 53.89, 62.78, 54.71, 72.04, 60.21, 62.78, 92.72, 63.4, 70.15, 50.56, 78.16, 89.92, 65.61, 98.41, 79.12, 71.83, 50.83, 51.22, 70.44, 85.44, 82.07, 54.36, 90.76, 61.8, 96.71, 54.52, 88.96, 87.05, 90.7, 98.38, 55.14, 57.53, 80.98, 98.25, 57.02, 99.03, 91.03, 74.65, 93.8, 84.76, 98.62, 52.46, 64.28, 65.55]\n"
     ]
    }
   ],
   "source": [
    "print (fabrica1)"
   ]
  },
  {
   "cell_type": "code",
   "execution_count": 53,
   "id": "bf5b1b7f-a5f7-41b4-b9a3-74a9448fa4a4",
   "metadata": {},
   "outputs": [
    {
     "data": {
      "text/plain": [
       "<function matplotlib.pyplot.show(close=None, block=None)>"
      ]
     },
     "execution_count": 53,
     "metadata": {},
     "output_type": "execute_result"
    },
    {
     "data": {
      "image/png": "[encoded data removed]",
      "text/plain": [
       "<Figure size 640x480 with 1 Axes>"
      ]
     },
     "metadata": {},
     "output_type": "display_data"
    }
   ],
   "source": [
    "plt.boxplot(fabrica1)\n",
    "plt.title(\"Produción de la fabrica 1\")\n",
    "plt.ylabel(\"Produción en metros\")\n",
    "plt.show"
   ]
  },
  {
   "cell_type": "code",
   "execution_count": 54,
   "id": "b6b63e9b-5558-4a16-8db5-8e1f0788129a",
   "metadata": {},
   "outputs": [
    {
     "data": {
      "text/plain": [
       "<function matplotlib.pyplot.show(close=None, block=None)>"
      ]
     },
     "execution_count": 54,
     "metadata": {},
     "output_type": "execute_result"
    },
    {
     "data": {
      "image/png": "[encoded data removed]",
      "text/plain": [
       "<Figure size 640x480 with 1 Axes>"
      ]
     },
     "metadata": {},
     "output_type": "display_data"
    }
   ],
   "source": [
    "plt.boxplot(fabrica2)\n",
    "plt.title(\"Produción de la fabrica 2\")\n",
    "plt.ylabel(\"Produción en metros\")\n",
    "plt.show"
   ]
  },
  {
   "cell_type": "markdown",
   "id": "53e2b385-3d01-463d-a7a1-d44c9c571680",
   "metadata": {},
   "source": [
    "## Comparamos la producción de la fabrica 1 y la fabrica 2 con un Diagrama de Cajas y Bigotes\n"
   ]
  },
  {
   "cell_type": "code",
   "execution_count": 58,
   "id": "fdc8bf0b-182d-46de-a94b-93cd648482e6",
   "metadata": {},
   "outputs": [
    {
     "data": {
      "text/plain": [
       "<function matplotlib.pyplot.show(close=None, block=None)>"
      ]
     },
     "execution_count": 58,
     "metadata": {},
     "output_type": "execute_result"
    },
    {
     "data": {
      "image/png": "[encoded data removed]",
      "text/plain": [
       "<Figure size 900x400 with 2 Axes>"
      ]
     },
     "metadata": {},
     "output_type": "display_data"
    }
   ],
   "source": [
    "fig, (ax1, ax2) = plt.subplots(nrows=1, ncols=2, figsize=(9,4))\n",
    "ax1.boxplot(fabrica1 , vert = True, patch_artist=True)\n",
    "ax1.set_title(\"Produción de la fabrica 1\")\n",
    "ax2.boxplot(fabrica2, vert= True, patch_artist=True)\n",
    "ax1.set_title(\"Produción de la fabrica 2\")\n",
    "plt.show"
   ]
  },
  {
   "cell_type": "code",
   "execution_count": 59,
   "id": "ea40a28f-c39d-4459-8dc5-d46014274a42",
   "metadata": {},
   "outputs": [
    {
     "name": "stdout",
     "output_type": "stream",
     "text": [
      "[92.68, 60.77, 57.36, 76.79, 65.01, 84.4, 53.58, 71.24, 94.1, 61.97, 83.94, 59.36, 53.38, 62.27, 57.82, 86.2, 77.0, 93.19, 97.06, 78.69, 80.2, 60.21, 50.65, 67.66, 65.81, 52.13, 69.41, 51.34, 57.48, 58.73, 96.22, 98.84, 80.37, 82.98, 57.12, 92.63, 95.82, 92.32, 91.95, 91.18, 70.29, 85.46, 86.19, 72.96, 84.78, 67.27, 90.52, 98.09, 80.07, 70.3, 51.05, 68.77, 74.85, 88.74, 70.02, 77.16, 73.05, 95.97, 68.81, 84.67, 61.96, 55.43, 79.06, 98.66, 50.1, 99.65, 86.18, 78.26, 97.5, 97.78, 58.79, 70.12, 65.51, 77.6, 62.49, 94.56, 76.71, 90.56, 77.39, 79.92, 52.95, 94.04, 86.83, 77.62, 69.31, 60.51, 55.48, 68.24, 97.44, 62.34, 64.76, 50.96, 70.39, 59.7, 60.99, 80.1, 97.14, 90.87, 66.63, 86.45]\n"
     ]
    }
   ],
   "source": [
    "print (fabrica2)"
   ]
  },
  {
   "cell_type": "code",
   "execution_count": 60,
   "id": "3bf21a97-70a4-4238-bafb-4713dd586d6c",
   "metadata": {},
   "outputs": [
    {
     "name": "stdout",
     "output_type": "stream",
     "text": [
      "[92.68, 60.77, 57.36, 76.79, 65.01, 84.4, 53.58, 71.24, 94.1, 61.97, 83.94, 59.36, 53.38, 62.27, 57.82, 86.2, 77.0, 93.19, 97.06, 78.69, 80.2, 60.21, 50.65, 67.66, 65.81, 52.13, 69.41, 51.34, 57.48, 58.73, 96.22, 98.84, 80.37, 82.98, 57.12, 92.63, 95.82, 92.32, 91.95, 91.18, 70.29, 85.46, 86.19, 72.96, 84.78, 67.27, 90.52, 98.09, 80.07, 70.3, 51.05, 68.77, 74.85, 88.74, 70.02, 77.16, 73.05, 95.97, 68.81, 84.67, 61.96, 55.43, 79.06, 98.66, 50.1, 99.65, 86.18, 78.26, 97.5, 97.78, 58.79, 70.12, 65.51, 77.6, 62.49, 94.56, 76.71, 90.56, 77.39, 79.92, 52.95, 94.04, 86.83, 77.62, 69.31, 60.51, 55.48, 68.24, 97.44, 62.34, 64.76, 50.96, 70.39, 59.7, 60.99, 80.1, 97.14, 90.87, 66.63, 86.45, 150]\n"
     ]
    }
   ],
   "source": [
    "fabrica2.append(150)\n",
    "print (fabrica2)"
   ]
  },
  {
   "cell_type": "code",
   "execution_count": 61,
   "id": "ed687c33-79f8-4ccb-b65c-f2cda8a0ce1e",
   "metadata": {},
   "outputs": [
    {
     "data": {
      "text/plain": [
       "<function matplotlib.pyplot.show(close=None, block=None)>"
      ]
     },
     "execution_count": 61,
     "metadata": {},
     "output_type": "execute_result"
    },
    {
     "data": {
      "image/png": "[encoded data removed]",
      "text/plain": [
       "<Figure size 640x480 with 1 Axes>"
      ]
     },
     "metadata": {},
     "output_type": "display_data"
    }
   ],
   "source": [
    "plt.boxplot(fabrica2)\n",
    "plt.title(\"Produción de la fabrica 2\")\n",
    "plt.ylabel(\"Produción en metros\")\n",
    "plt.show"
   ]
  }
 ],
 "metadata": {
  "kernelspec": {
   "display_name": "Python 3 (ipykernel)",
   "language": "python",
   "name": "python3"
  },
  "language_info": {
   "codemirror_mode": {
    "name": "ipython",
    "version": 3
   },
   "file_extension": ".py",
   "mimetype": "text/x-python",
   "name": "python",
   "nbconvert_exporter": "python",
   "pygments_lexer": "ipython3",
   "version": "3.12.2"
  }
 },
 "nbformat": 4,
 "nbformat_minor": 5
}
