{
 "cells": [
  {
   "cell_type": "markdown",
   "id": "bb2f35cb-53de-4ae9-9515-9c50c9453d3a",
   "metadata": {},
   "source": [
    "## Probabilidad y Estadistica \n",
    "## Facilitador: José Gabriel Rodríguez Rivas\n",
    "### Alumno: Emanuel Magallanes Contreras"
   ]
  },
  {
   "cell_type": "markdown",
   "id": "eee44d2a-f6a0-499e-bca1-a780ffb9d0f3",
   "metadata": {},
   "source": [
    "El numero promedio de accidentes de transito en cierto crucero de carretera es dos por semana. Suponga que el numero de accidentes sigue una distribucion de Poisson con una media = 2.\n",
    "1. Encuentre la probabilidad de que no haya accidentes en este crucero durante un periodo de 1 semana.\n",
    "2. Encuentre la probabilidad de que a lo sumo haya tres accidentes en esta seccion de carretera durante un periodo de 2 semanas."
   ]
  },
  {
   "cell_type": "code",
   "execution_count": 9,
   "id": "8e3641ef-2a53-4f66-aa68-76f0de670424",
   "metadata": {},
   "outputs": [
    {
     "name": "stdout",
     "output_type": "stream",
     "text": [
      "1. Probabilidad de que no haya accidentes en 1 semana:  0.1353352832366127\n",
      "2. Probabilidad de que a lo sumo haya tres accidentes en 2 semanas :  0.43347012036670896\n"
     ]
    }
   ],
   "source": [
    "from scipy.stats import poisson\n",
    "\n",
    "# Parametros de la distribucion de Poisson\n",
    "media_accidentes = 2 \n",
    "\n",
    "# Parte 1: Probabilidad de que no haya accidentes en 1 semana\n",
    "probabilidad_0_accidentes = poisson.pmf (0, media_accidentes)\n",
    "\n",
    "print (\"1. Probabilidad de que no haya accidentes en 1 semana: \", probabilidad_0_accidentes)\n",
    "\n",
    "# Parte 2: Probabilidad de que a lo sumo haya tres accidentes en 2 semanas\n",
    "# Convertimos la media a una media para 2 semanas\n",
    "\n",
    "media_2_semanas = media_accidentes * 2 \n",
    "\n",
    "# Calculamos la probabilidad acumulada hasta 3 accidentes en 2 semanas\n",
    "probabilidad_3_o_menos_accidentes = poisson.cdf(3, media_2_semanas)\n",
    "\n",
    "print (\"2. Probabilidad de que a lo sumo haya tres accidentes en 2 semanas : \", probabilidad_3_o_menos_accidentes)"
   ]
  },
  {
   "cell_type": "markdown",
   "id": "ceea271b-9f6b-4768-b4ea-397cd83157a5",
   "metadata": {},
   "source": [
    "## Ejercicio 2 \n",
    "Una compania de seguros de vida asegura las vidas de 5000 hombres de 42 anos de edad.\n",
    "Si estudios actuariales muestran que la probabilidad de que cualquier hombre de 42 anos muera en un ano determinado es .001, encuentre la probabilidad exacta de que la compania tendra que pagar x = 4 reclamaciones durante un ano determinado."
   ]
  },
  {
   "cell_type": "code",
   "execution_count": 10,
   "id": "b8af1b20-a5d9-4e30-b46d-0b6775df4986",
   "metadata": {},
   "outputs": [
    {
     "name": "stdout",
     "output_type": "stream",
     "text": [
      "La probabilidad de que la compania tenga que pagar 4 reclamaciones es de:  0.17546736976785063\n"
     ]
    }
   ],
   "source": [
    "# Parametros de la distribucion de Poisson\n",
    "media_muertes = 5000 * 0.001 # 5000 hombres con una probabilidad de 0.001\n",
    "\n",
    "# Numero de reclamaciones\n",
    "x = 4\n",
    "\n",
    "#Calcular la probabilidad de que la compania tenga que pagar 4 reclamaciones en un ano determinado\n",
    "probabilidad_4_reclamaciones = poisson.pmf  (x, media_muertes)\n",
    "\n",
    "print (\"La probabilidad de que la compania tenga que pagar 4 reclamaciones es de: \", probabilidad_4_reclamaciones)"
   ]
  },
  {
   "cell_type": "markdown",
   "id": "8439a078-d353-4d34-a3cf-7424a47a33d2",
   "metadata": {},
   "source": [
    "# TAREA\n",
    "Antes de resolver cada problema especifique si la solución es de tipo Binomial o Poisson y\r\n",
    "explique por qué.\n",
    "## Problema 1\n",
    "Realizar un programa en Python que resuelva el siguiente problema\n",
    "\n",
    "El problema 1 podemos resolverlo con una solucion de tipo Poisson ya que tenemos que hacer cálculos de probabilidades donde se requiere contar el número de veces que se produce un suceso aleatorio durante un periodo determinado de tiempo:\n",
    "\n",
    "El numero x de personas ingresadas a una unidad de cuidados intensivos en un hospital particular, en un dia, tiene una distribucion de probabilidad de Poisson con una media igual a 5 personas por dia.\n",
    "1. a) ¿Cual es la probabilidad de que el numero de personas ingresadas a una unidad de cuidados intensivos en un hospital particular, en un dia particular, sea dos?\n",
    "2. b) ¿Es probable que x exceda de 10? Explicar\n"
   ]
  },
  {
   "cell_type": "code",
   "execution_count": 11,
   "id": "3dbc9792-a142-4609-a5ef-045f8a4a1a2f",
   "metadata": {},
   "outputs": [
    {
     "name": "stdout",
     "output_type": "stream",
     "text": [
      "La probabilidad de que el numero de personas ingresadas en un dia particular sea 2 es igual a: 0.08422433748856832\n"
     ]
    }
   ],
   "source": [
    "media_personas = 5\n",
    "\n",
    "# Probabilidad de que el numero de personas ingresadas sea igual a  2 en un dia particular\n",
    "x = 2 \n",
    "\n",
    "probabilidad_2_personas = poisson.pmf (x, media_personas)\n",
    "print (\"La probabilidad de que el numero de personas ingresadas en un dia particular sea 2 es igual a:\" , probabilidad_2_personas)"
   ]
  },
  {
   "cell_type": "markdown",
   "id": "e960a221-f36f-4573-acd7-e72c3e365a1f",
   "metadata": {},
   "source": [
    "Para resolver el planteamiento 2, podemos sustituir x con un valor mas alto que 10 y si nos arroja una probabilidad por pequeña que sea, podemos asumir que x si puede exceder el valor de 10. "
   ]
  },
  {
   "cell_type": "code",
   "execution_count": 31,
   "id": "07c110cd-cf50-4221-87a7-c49067b0a350",
   "metadata": {},
   "outputs": [
    {
     "name": "stdout",
     "output_type": "stream",
     "text": [
      "0.008242176685373562\n"
     ]
    }
   ],
   "source": [
    "x = 11\n",
    "probabilidad_11_personas = poisson.pmf (x, media_personas)\n",
    "print (probabilidad_11_personas)"
   ]
  },
  {
   "cell_type": "markdown",
   "id": "f26964c0-1b25-42a2-8e23-da120c58e3eb",
   "metadata": {},
   "source": [
    "Nos arroja un valor que aunque sea pequeño confirma que x puede obtener valores que excedan 10."
   ]
  },
  {
   "cell_type": "markdown",
   "id": "764ee185-d0ca-4af6-941f-02c45c89510d",
   "metadata": {},
   "source": [
    "## Problema 2\n",
    "\n",
    "Para resolver este problema, utilizaremos la distribución binomial, ya que estamos interesados en calcular la probabilidad de un número específico de éxitos en un número fijo de ensayos, donde cada ensayo tiene dos resultados posibles: satisfactorio o defectuoso.\n",
    "\n",
    "Realizar un programa en python que resuelva el siguiente problema:\n",
    "\n",
    "Un fabricante de podadoras para el pasto compra motores de 1 hp y 2 ciclos, en lotes de 1,000 a un proveedor.\n",
    "El fabricante equipa cada una de las podadoras producidas por su planta con uno de los motores.\n",
    "La historia muestra que la probabilidad de que cualquier motor del proveedor resulte no satisfactorio es de .001\n",
    "En un embarque de 1,000 motores, calcular:\n",
    "1. ¿Cual es la probabilidad de que ninguno sea defectuoso?\n",
    "2. ¿Cual es la probabilidad de que 3 sean defectuosos?\n",
    "3. ¿Cual es la probabilidad de que cuatro sean defectuosos?\n",
    "\n"
   ]
  },
  {
   "cell_type": "code",
   "execution_count": 18,
   "id": "4abffa3e-78d4-4a26-9313-4e8246fb743e",
   "metadata": {},
   "outputs": [
    {
     "name": "stdout",
     "output_type": "stream",
     "text": [
      "La probabilidad de que ninguna podadora sea defectuosa es de :  0.3676954247709639\n",
      "La probabilidad de que tres podadoras sean defectuosas es de :  0.061282509389840645\n",
      "La probabilidad de que cuatro podadoras sean defectuosas es de :  0.015289955420838651\n"
     ]
    }
   ],
   "source": [
    "from scipy.stats import binom \n",
    "\n",
    "# Parametros de la distribucion binomial\n",
    "\n",
    "n = 1000\n",
    "probabilidad = .001 \n",
    "x1 = 0\n",
    "x3 = 3\n",
    "x4 = 4\n",
    "\n",
    "probabilidad_0_defectuosas = binom.pmf (x1, n, probabilidad)\n",
    "print (\"La probabilidad de que ninguna podadora sea defectuosa es de : \" , probabilidad_0_defectuosas)\n",
    "\n",
    "probabilidad_3_defectuosas = binom.pmf (x3, n, probabilidad)\n",
    "print (\"La probabilidad de que tres podadoras sean defectuosas es de : \" , probabilidad_3_defectuosas)\n",
    "\n",
    "probabilidad_4_defectuosas = binom.pmf (x4, n, probabilidad)\n",
    "print (\"La probabilidad de que cuatro podadoras sean defectuosas es de : \" , probabilidad_4_defectuosas)\n",
    "\n"
   ]
  }
 ],
 "metadata": {
  "kernelspec": {
   "display_name": "Python 3 (ipykernel)",
   "language": "python",
   "name": "python3"
  },
  "language_info": {
   "codemirror_mode": {
    "name": "ipython",
    "version": 3
   },
   "file_extension": ".py",
   "mimetype": "text/x-python",
   "name": "python",
   "nbconvert_exporter": "python",
   "pygments_lexer": "ipython3",
   "version": "3.12.2"
  }
 },
 "nbformat": 4,
 "nbformat_minor": 5
}
